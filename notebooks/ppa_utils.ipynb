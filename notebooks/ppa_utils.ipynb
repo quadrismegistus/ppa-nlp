{
 "cells": [
  {
   "cell_type": "markdown",
   "id": "0214e637-50a3-4119-bea7-4d80ae45a988",
   "metadata": {},
   "source": [
    "# Utils"
   ]
  },
  {
   "cell_type": "markdown",
   "id": "595e2edc-aee2-4ba5-a1a5-3180545aa50b",
   "metadata": {},
   "source": [
    "## Tokenizers"
   ]
  },
  {
   "cell_type": "code",
   "execution_count": 10,
   "id": "d3903342-4b61-432c-897a-41bf9cc76489",
   "metadata": {},
   "outputs": [],
   "source": [
    "def tokenize_agnostic(txt):\n",
    "    import re\n",
    "    return re.findall(r\"[\\w']+|[.,!?; -—–\\n]\", txt)\n",
    "\n",
    "def tokenize(txt):\n",
    "    return [\n",
    "        tok.lower()  # lowercase\n",
    "        for tok in tokenize_agnostic(txt)\n",
    "        if tok.strip()   # make sure not empty string like a space character\n",
    "        and tok.strip().isalpha()   # make sure not a number like a page number, only letters allowed\n",
    "    ]"
   ]
  },
  {
   "cell_type": "code",
   "execution_count": 11,
   "id": "4fdb9abc-9236-40ac-af3c-e932a7bd44cc",
   "metadata": {},
   "outputs": [
    {
     "data": {
      "text/plain": [
       "['story', 'of', 'my', 'life', 'and', 'so', 'as', 'i', 'was', 'saying', 'hello']"
      ]
     },
     "execution_count": 11,
     "metadata": {},
     "output_type": "execute_result"
    }
   ],
   "source": [
    "tokenize(\"STORY OF MY-LIFE, 12 and so as I was saying—hello ., \")"
   ]
  },
  {
   "cell_type": "code",
   "execution_count": 4,
   "id": "c5447cda-ba91-4f03-a7e3-2e1cea0fb809",
   "metadata": {},
   "outputs": [],
   "source": [
    "def standardize_newlines(txt,correct='\\n',poss=['\\r\\n','\\n','\\r']):\n",
    "    for nl in poss:\n",
    "        if nl != correct:\n",
    "            txt = txt.replace(nl,correct)\n",
    "    return txt\n"
   ]
  },
  {
   "cell_type": "code",
   "execution_count": 5,
   "id": "e68555b0-c04e-40be-98a5-f4e2a66d710d",
   "metadata": {},
   "outputs": [
    {
     "data": {
      "text/plain": [
       "'Hello\\nmy friends\\ngood day\\n\\n\\n\\n'"
      ]
     },
     "execution_count": 5,
     "metadata": {},
     "output_type": "execute_result"
    }
   ],
   "source": [
    "standardize_newlines(\"Hello\\r\\nmy friends\\rgood day\\n\\n\\r\\r\")"
   ]
  },
  {
   "cell_type": "code",
   "execution_count": 9,
   "id": "788982a9-ffd2-4893-981d-10c269e1f2b9",
   "metadata": {},
   "outputs": [
    {
     "data": {
      "text/plain": [
       "'Hello\\rmy friends\\rgood day\\r\\r\\r\\r'"
      ]
     },
     "execution_count": 9,
     "metadata": {},
     "output_type": "execute_result"
    }
   ],
   "source": [
    "standardize_newlines(\"Hello\\r\\nmy friends\\rgood day\\n\\n\\r\\r\", correct='\\r')"
   ]
  },
  {
   "cell_type": "code",
   "execution_count": null,
   "id": "37d65580-0b12-406b-bba4-223f8758194d",
   "metadata": {},
   "outputs": [],
   "source": []
  }
 ],
 "metadata": {
  "kernelspec": {
   "display_name": "Python 3.8.14 ('venv': venv)",
   "language": "python",
   "name": "python3"
  },
  "language_info": {
   "codemirror_mode": {
    "name": "ipython",
    "version": 3
   },
   "file_extension": ".py",
   "mimetype": "text/x-python",
   "name": "python",
   "nbconvert_exporter": "python",
   "pygments_lexer": "ipython3",
   "version": "3.8.14 (default, Sep 27 2022, 10:48:18) \n[Clang 13.1.6 (clang-1316.0.21.2.5)]"
  },
  "vscode": {
   "interpreter": {
    "hash": "a26afea0148184adcf96d9e854e9a32e5f0c213ceb3100f49c8a7d0e8bc5ae95"
   }
  }
 },
 "nbformat": 4,
 "nbformat_minor": 5
}
