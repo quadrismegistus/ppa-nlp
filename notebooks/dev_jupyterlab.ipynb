{
 "cells": [
  {
   "cell_type": "code",
   "execution_count": 1,
   "id": "0a3096d6-b7b2-4ede-baae-5123d388c86a",
   "metadata": {},
   "outputs": [],
   "source": [
    "%run ppa_init.ipynb"
   ]
  },
  {
   "cell_type": "code",
   "execution_count": 2,
   "id": "9aaade00-a2fc-4269-8763-13195be7dd83",
   "metadata": {},
   "outputs": [],
   "source": [
    "texts = DigitizedWork.objects.all()"
   ]
  },
  {
   "cell_type": "code",
   "execution_count": 3,
   "id": "d084d90c-aaa8-48e1-beb7-cf09b661b2e0",
   "metadata": {},
   "outputs": [
    {
     "name": "stderr",
     "output_type": "stream",
     "text": [
      "INFO:parasolr.django.solrclient:Connecting to default Solr http://localhost:8983/solr/ppanlp\n"
     ]
    },
    {
     "data": {
      "text/plain": [
       "6332"
      ]
     },
     "execution_count": 3,
     "metadata": {},
     "output_type": "execute_result"
    }
   ],
   "source": [
    "len(texts)"
   ]
  },
  {
   "cell_type": "code",
   "execution_count": null,
   "id": "e0698298-0666-4afe-88d1-4b60ffbce03a",
   "metadata": {},
   "outputs": [],
   "source": []
  }
 ],
 "metadata": {
  "kernelspec": {
   "display_name": "Python 3 (ipykernel)",
   "language": "python",
   "name": "python3"
  },
  "language_info": {
   "codemirror_mode": {
    "name": "ipython",
    "version": 3
   },
   "file_extension": ".py",
   "mimetype": "text/x-python",
   "name": "python",
   "nbconvert_exporter": "python",
   "pygments_lexer": "ipython3",
   "version": "3.9.7"
  }
 },
 "nbformat": 4,
 "nbformat_minor": 5
}
