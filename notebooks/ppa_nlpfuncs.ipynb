{
 "cells": [
  {
   "cell_type": "markdown",
   "id": "a06f6490-ae38-4deb-88dc-0010e821c284",
   "metadata": {},
   "source": [
    "# New nlpfuncs for hathi/digitizedwork"
   ]
  },
  {
   "cell_type": "code",
   "execution_count": 1,
   "id": "ba306269-3e0c-4127-8437-0de9af090882",
   "metadata": {},
   "outputs": [],
   "source": [
    "%run ppa_init.ipynb"
   ]
  },
  {
   "cell_type": "code",
   "execution_count": 2,
   "id": "d230f51d-217a-4b83-82da-45aeea6f6507",
   "metadata": {},
   "outputs": [
    {
     "name": "stderr",
     "output_type": "stream",
     "text": [
      "INFO:parasolr.django.solrclient:Connecting to default Solr http://localhost:8983/solr/ppanlp\n"
     ]
    },
    {
     "data": {
      "text/plain": [
       "5124"
      ]
     },
     "execution_count": 2,
     "metadata": {},
     "output_type": "execute_result"
    }
   ],
   "source": [
    "digiworks=[t for t in DigitizedWork.objects.all() if t.hathi]\n",
    "len(digiworks)"
   ]
  },
  {
   "cell_type": "markdown",
   "id": "7b270220-f5e6-42f0-a44c-bb54fd5e6559",
   "metadata": {},
   "source": [
    "## Getting full text"
   ]
  },
  {
   "cell_type": "markdown",
   "id": "08b4d2f7-a32a-49ca-b757-53fdc37c9242",
   "metadata": {
    "tags": []
   },
   "source": [
    "### Hathi Trust: via page data"
   ]
  },
  {
   "cell_type": "code",
   "execution_count": 3,
   "id": "ce8a080c-b6d7-44e3-9867-42336b9a0068",
   "metadata": {},
   "outputs": [],
   "source": [
    "# Adapted from hathi_page_index_data\n",
    "\n",
    "def iter_pages(self, page_span=None, **meta):\n",
    "    \"\"\"Get page content for the specified digitized work from Hathi\n",
    "    pairtree and return data to be indexed in solr.\"\"\"\n",
    "\n",
    "    from zipfile import ZipFile\n",
    "    from eulxml.xmlmap import load_xmlobject_from_file\n",
    "    from ppa.archive.hathi import MinimalMETS\n",
    "    from pairtree import storage_exceptions\n",
    "\n",
    "\n",
    "    # load mets record to pull metadata about the images\n",
    "    try:\n",
    "        mmets = load_xmlobject_from_file(self.metsfile_path(), MinimalMETS)\n",
    "    except storage_exceptions.ObjectNotFoundException:\n",
    "        # logger.debug(\n",
    "        #     \"Pairtree data for %s not found\",\n",
    "        #     self.hathi_id,\n",
    "        # )\n",
    "        return\n",
    "\n",
    "    # read zipfile contents in place, without unzipping\n",
    "    with ZipFile(self.zipfile_path()) as ht_zip:\n",
    "        # yield a generator of index data for each page; iterate\n",
    "        # over pages in METS structmap\n",
    "        for i, page in enumerate(mmets.structmap_pages, 1):\n",
    "            # if the document has a page range defined, skip any pages not in range\n",
    "            if page_span and i not in page_span: continue\n",
    "\n",
    "            # zipfile spec uses / for path regardless of OS\n",
    "            pagefilename = f'{self.content_dir}/{page.text_file_location}'\n",
    "\n",
    "            with ht_zip.open(pagefilename) as pagefile:\n",
    "                try:\n",
    "                    yield {\n",
    "                        \"source_id\": self.hathi_id,\n",
    "                        \"page_id\": page.text_file.sequence,                        \n",
    "                        \"page_i\": i,\n",
    "                        \"content\": pagefile.read().decode(\"utf-8\"),\n",
    "                        \"order\": page.order,\n",
    "                        \"label\": page.display_label,\n",
    "                        \"tags\": page.label.split(\", \") if page.label else [],\n",
    "                        \"item_type\": \"page\",\n",
    "                    }\n",
    "                except StopIteration:\n",
    "                    return\n",
    "\n",
    "                \n",
    "HathiObject.iter_pages = iter_pages"
   ]
  },
  {
   "cell_type": "code",
   "execution_count": 5,
   "id": "c0ea7e25-b420-4ac8-8659-c754280d26ff",
   "metadata": {},
   "outputs": [
    {
     "data": {
      "text/plain": [
       "('Sapphics', 'Swinburne, Algernon Charles.', 1866)"
      ]
     },
     "execution_count": 5,
     "metadata": {},
     "output_type": "execute_result"
    }
   ],
   "source": [
    "work = random.choice(digiworks)\n",
    "hathiobj = work.hathi\n",
    "work.title, work.author, work.pub_date"
   ]
  },
  {
   "cell_type": "code",
   "execution_count": 6,
   "id": "a4c16f9c",
   "metadata": {},
   "outputs": [
    {
     "data": {
      "text/html": [
       "<div>\n",
       "<style scoped>\n",
       "    .dataframe tbody tr th:only-of-type {\n",
       "        vertical-align: middle;\n",
       "    }\n",
       "\n",
       "    .dataframe tbody tr th {\n",
       "        vertical-align: top;\n",
       "    }\n",
       "\n",
       "    .dataframe thead th {\n",
       "        text-align: right;\n",
       "    }\n",
       "</style>\n",
       "<table border=\"1\" class=\"dataframe\">\n",
       "  <thead>\n",
       "    <tr style=\"text-align: right;\">\n",
       "      <th></th>\n",
       "      <th>source_id</th>\n",
       "      <th>page_id</th>\n",
       "      <th>page_i</th>\n",
       "      <th>content</th>\n",
       "      <th>order</th>\n",
       "      <th>label</th>\n",
       "      <th>tags</th>\n",
       "      <th>item_type</th>\n",
       "    </tr>\n",
       "  </thead>\n",
       "  <tbody>\n",
       "    <tr>\n",
       "      <th>0</th>\n",
       "      <td>uiug.30112001676896</td>\n",
       "      <td>00000001</td>\n",
       "      <td>1</td>\n",
       "      <td>\\n</td>\n",
       "      <td>1</td>\n",
       "      <td>1</td>\n",
       "      <td>[FRONT_COVER, IMAGE_ON_PAGE, IMPLICIT_PAGE_NUM...</td>\n",
       "      <td>page</td>\n",
       "    </tr>\n",
       "    <tr>\n",
       "      <th>1</th>\n",
       "      <td>uiug.30112001676896</td>\n",
       "      <td>00000002</td>\n",
       "      <td>2</td>\n",
       "      <td>\\n</td>\n",
       "      <td>2</td>\n",
       "      <td>2</td>\n",
       "      <td>[IMAGE_ON_PAGE, IMPLICIT_PAGE_NUMBER]</td>\n",
       "      <td>page</td>\n",
       "    </tr>\n",
       "    <tr>\n",
       "      <th>2</th>\n",
       "      <td>uiug.30112001676896</td>\n",
       "      <td>00000003</td>\n",
       "      <td>3</td>\n",
       "      <td>\\n</td>\n",
       "      <td>3</td>\n",
       "      <td>3</td>\n",
       "      <td>[IMAGE_ON_PAGE, IMPLICIT_PAGE_NUMBER]</td>\n",
       "      <td>page</td>\n",
       "    </tr>\n",
       "    <tr>\n",
       "      <th>3</th>\n",
       "      <td>uiug.30112001676896</td>\n",
       "      <td>00000004</td>\n",
       "      <td>4</td>\n",
       "      <td>LIBRARY OF THE\\nUNIVERSITY OF ILLINOIS\\nAT URB...</td>\n",
       "      <td>4</td>\n",
       "      <td>4</td>\n",
       "      <td>[UNTYPICAL_PAGE, IMPLICIT_PAGE_NUMBER]</td>\n",
       "      <td>page</td>\n",
       "    </tr>\n",
       "    <tr>\n",
       "      <th>4</th>\n",
       "      <td>uiug.30112001676896</td>\n",
       "      <td>00000005</td>\n",
       "      <td>5</td>\n",
       "      <td>The person charging this material is re-\\nspon...</td>\n",
       "      <td>5</td>\n",
       "      <td>5</td>\n",
       "      <td>[IMAGE_ON_PAGE, UNTYPICAL_PAGE, IMPLICIT_PAGE_...</td>\n",
       "      <td>page</td>\n",
       "    </tr>\n",
       "    <tr>\n",
       "      <th>...</th>\n",
       "      <td>...</td>\n",
       "      <td>...</td>\n",
       "      <td>...</td>\n",
       "      <td>...</td>\n",
       "      <td>...</td>\n",
       "      <td>...</td>\n",
       "      <td>...</td>\n",
       "      <td>...</td>\n",
       "    </tr>\n",
       "    <tr>\n",
       "      <th>365</th>\n",
       "      <td>uiug.30112001676896</td>\n",
       "      <td>00000366</td>\n",
       "      <td>366</td>\n",
       "      <td>344 DEDICATION.\\nEre time that breaks all men ...</td>\n",
       "      <td>366</td>\n",
       "      <td>344</td>\n",
       "      <td>[UNTYPICAL_PAGE]</td>\n",
       "      <td>page</td>\n",
       "    </tr>\n",
       "    <tr>\n",
       "      <th>366</th>\n",
       "      <td>uiug.30112001676896</td>\n",
       "      <td>00000367</td>\n",
       "      <td>367</td>\n",
       "      <td></td>\n",
       "      <td>367</td>\n",
       "      <td>345</td>\n",
       "      <td>[BLANK, IMPLICIT_PAGE_NUMBER]</td>\n",
       "      <td>page</td>\n",
       "    </tr>\n",
       "    <tr>\n",
       "      <th>367</th>\n",
       "      <td>uiug.30112001676896</td>\n",
       "      <td>00000368</td>\n",
       "      <td>368</td>\n",
       "      <td></td>\n",
       "      <td>368</td>\n",
       "      <td>346</td>\n",
       "      <td>[BLANK, IMPLICIT_PAGE_NUMBER]</td>\n",
       "      <td>page</td>\n",
       "    </tr>\n",
       "    <tr>\n",
       "      <th>368</th>\n",
       "      <td>uiug.30112001676896</td>\n",
       "      <td>00000369</td>\n",
       "      <td>369</td>\n",
       "      <td></td>\n",
       "      <td>369</td>\n",
       "      <td>347</td>\n",
       "      <td>[BLANK, IMPLICIT_PAGE_NUMBER]</td>\n",
       "      <td>page</td>\n",
       "    </tr>\n",
       "    <tr>\n",
       "      <th>369</th>\n",
       "      <td>uiug.30112001676896</td>\n",
       "      <td>00000370</td>\n",
       "      <td>370</td>\n",
       "      <td>|| ||\\n\\n</td>\n",
       "      <td>370</td>\n",
       "      <td>348</td>\n",
       "      <td>[BACK_COVER, IMAGE_ON_PAGE, IMPLICIT_PAGE_NUMBER]</td>\n",
       "      <td>page</td>\n",
       "    </tr>\n",
       "  </tbody>\n",
       "</table>\n",
       "<p>370 rows × 8 columns</p>\n",
       "</div>"
      ],
      "text/plain": [
       "               source_id   page_id  page_i  \\\n",
       "0    uiug.30112001676896  00000001       1   \n",
       "1    uiug.30112001676896  00000002       2   \n",
       "2    uiug.30112001676896  00000003       3   \n",
       "3    uiug.30112001676896  00000004       4   \n",
       "4    uiug.30112001676896  00000005       5   \n",
       "..                   ...       ...     ...   \n",
       "365  uiug.30112001676896  00000366     366   \n",
       "366  uiug.30112001676896  00000367     367   \n",
       "367  uiug.30112001676896  00000368     368   \n",
       "368  uiug.30112001676896  00000369     369   \n",
       "369  uiug.30112001676896  00000370     370   \n",
       "\n",
       "                                               content  order label  \\\n",
       "0                                                   \\n      1     1   \n",
       "1                                                   \\n      2     2   \n",
       "2                                                   \\n      3     3   \n",
       "3    LIBRARY OF THE\\nUNIVERSITY OF ILLINOIS\\nAT URB...      4     4   \n",
       "4    The person charging this material is re-\\nspon...      5     5   \n",
       "..                                                 ...    ...   ...   \n",
       "365  344 DEDICATION.\\nEre time that breaks all men ...    366   344   \n",
       "366                                                       367   345   \n",
       "367                                                       368   346   \n",
       "368                                                       369   347   \n",
       "369                                          || ||\\n\\n    370   348   \n",
       "\n",
       "                                                  tags item_type  \n",
       "0    [FRONT_COVER, IMAGE_ON_PAGE, IMPLICIT_PAGE_NUM...      page  \n",
       "1                [IMAGE_ON_PAGE, IMPLICIT_PAGE_NUMBER]      page  \n",
       "2                [IMAGE_ON_PAGE, IMPLICIT_PAGE_NUMBER]      page  \n",
       "3               [UNTYPICAL_PAGE, IMPLICIT_PAGE_NUMBER]      page  \n",
       "4    [IMAGE_ON_PAGE, UNTYPICAL_PAGE, IMPLICIT_PAGE_...      page  \n",
       "..                                                 ...       ...  \n",
       "365                                   [UNTYPICAL_PAGE]      page  \n",
       "366                      [BLANK, IMPLICIT_PAGE_NUMBER]      page  \n",
       "367                      [BLANK, IMPLICIT_PAGE_NUMBER]      page  \n",
       "368                      [BLANK, IMPLICIT_PAGE_NUMBER]      page  \n",
       "369  [BACK_COVER, IMAGE_ON_PAGE, IMPLICIT_PAGE_NUMBER]      page  \n",
       "\n",
       "[370 rows x 8 columns]"
      ]
     },
     "execution_count": 6,
     "metadata": {},
     "output_type": "execute_result"
    }
   ],
   "source": [
    "df_pages = pd.DataFrame(hathiobj.iter_pages())\n",
    "df_pages"
   ]
  },
  {
   "cell_type": "code",
   "execution_count": 7,
   "id": "a5f934f8",
   "metadata": {},
   "outputs": [
    {
     "data": {
      "text/html": [
       "<div>\n",
       "<style scoped>\n",
       "    .dataframe tbody tr th:only-of-type {\n",
       "        vertical-align: middle;\n",
       "    }\n",
       "\n",
       "    .dataframe tbody tr th {\n",
       "        vertical-align: top;\n",
       "    }\n",
       "\n",
       "    .dataframe thead th {\n",
       "        text-align: right;\n",
       "    }\n",
       "</style>\n",
       "<table border=\"1\" class=\"dataframe\">\n",
       "  <thead>\n",
       "    <tr style=\"text-align: right;\">\n",
       "      <th></th>\n",
       "      <th>source_id</th>\n",
       "      <th>page_id</th>\n",
       "      <th>page_i</th>\n",
       "      <th>content</th>\n",
       "      <th>order</th>\n",
       "      <th>label</th>\n",
       "      <th>tags</th>\n",
       "      <th>item_type</th>\n",
       "    </tr>\n",
       "  </thead>\n",
       "  <tbody>\n",
       "    <tr>\n",
       "      <th>101</th>\n",
       "      <td>uiug.30112001676896</td>\n",
       "      <td>00000102</td>\n",
       "      <td>102</td>\n",
       "      <td>80 HYMN TO PROSERPINE.\\nThough all men abase t...</td>\n",
       "      <td>102</td>\n",
       "      <td>80</td>\n",
       "      <td>[]</td>\n",
       "      <td>page</td>\n",
       "    </tr>\n",
       "    <tr>\n",
       "      <th>25</th>\n",
       "      <td>uiug.30112001676896</td>\n",
       "      <td>00000026</td>\n",
       "      <td>26</td>\n",
       "      <td>4 A BALLAD OF LIFE.\\nAnd bosom carved to kiss....</td>\n",
       "      <td>26</td>\n",
       "      <td>4</td>\n",
       "      <td>[UNTYPICAL_PAGE]</td>\n",
       "      <td>page</td>\n",
       "    </tr>\n",
       "    <tr>\n",
       "      <th>318</th>\n",
       "      <td>uiug.30112001676896</td>\n",
       "      <td>00000319</td>\n",
       "      <td>319</td>\n",
       "      <td>THE TWO DREAMS. 297\\n*-*-*-\\nHer body's balanc...</td>\n",
       "      <td>319</td>\n",
       "      <td>297</td>\n",
       "      <td>[IMPLICIT_PAGE_NUMBER]</td>\n",
       "      <td>page</td>\n",
       "    </tr>\n",
       "    <tr>\n",
       "      <th>352</th>\n",
       "      <td>uiug.30112001676896</td>\n",
       "      <td>00000353</td>\n",
       "      <td>353</td>\n",
       "      <td>THE BLOODY SON. 331\\n“And what will ye leave y...</td>\n",
       "      <td>353</td>\n",
       "      <td>331</td>\n",
       "      <td>[UNTYPICAL_PAGE]</td>\n",
       "      <td>page</td>\n",
       "    </tr>\n",
       "    <tr>\n",
       "      <th>167</th>\n",
       "      <td>uiug.30112001676896</td>\n",
       "      <td>00000168</td>\n",
       "      <td>168</td>\n",
       "      <td>146 A BALL AD OF BURDENS.\\nThy times and ways ...</td>\n",
       "      <td>168</td>\n",
       "      <td>146</td>\n",
       "      <td>[UNTYPICAL_PAGE]</td>\n",
       "      <td>page</td>\n",
       "    </tr>\n",
       "    <tr>\n",
       "      <th>323</th>\n",
       "      <td>uiug.30112001676896</td>\n",
       "      <td>00000324</td>\n",
       "      <td>324</td>\n",
       "      <td>302 THE TWO DREAMS.\\nThen a cool naked sense b...</td>\n",
       "      <td>324</td>\n",
       "      <td>302</td>\n",
       "      <td>[]</td>\n",
       "      <td>page</td>\n",
       "    </tr>\n",
       "    <tr>\n",
       "      <th>291</th>\n",
       "      <td>uiug.30112001676896</td>\n",
       "      <td>00000292</td>\n",
       "      <td>292</td>\n",
       "      <td>270\\nTHE MASQUE OF QUEEN BERSABE.\\nBehold, Lor...</td>\n",
       "      <td>292</td>\n",
       "      <td>270</td>\n",
       "      <td>[]</td>\n",
       "      <td>page</td>\n",
       "    </tr>\n",
       "    <tr>\n",
       "      <th>87</th>\n",
       "      <td>uiug.30112001676896</td>\n",
       "      <td>00000088</td>\n",
       "      <td>88</td>\n",
       "      <td>66 ANACTORIA.\\n------\\nI charge thee keep thy ...</td>\n",
       "      <td>88</td>\n",
       "      <td>66</td>\n",
       "      <td>[IMPLICIT_PAGE_NUMBER]</td>\n",
       "      <td>page</td>\n",
       "    </tr>\n",
       "    <tr>\n",
       "      <th>347</th>\n",
       "      <td>uiug.30112001676896</td>\n",
       "      <td>00000348</td>\n",
       "      <td>348</td>\n",
       "      <td>326\\nAFTER DEATH.\\nHave they boiled my maid in...</td>\n",
       "      <td>348</td>\n",
       "      <td>326</td>\n",
       "      <td>[UNTYPICAL_PAGE]</td>\n",
       "      <td>page</td>\n",
       "    </tr>\n",
       "    <tr>\n",
       "      <th>140</th>\n",
       "      <td>uiug.30112001676896</td>\n",
       "      <td>00000141</td>\n",
       "      <td>141</td>\n",
       "      <td>A MATCH.\\nIF love were what the rose is,\\nAnd ...</td>\n",
       "      <td>141</td>\n",
       "      <td>119</td>\n",
       "      <td>[UNTYPICAL_PAGE, IMPLICIT_PAGE_NUMBER]</td>\n",
       "      <td>page</td>\n",
       "    </tr>\n",
       "  </tbody>\n",
       "</table>\n",
       "</div>"
      ],
      "text/plain": [
       "               source_id   page_id  page_i  \\\n",
       "101  uiug.30112001676896  00000102     102   \n",
       "25   uiug.30112001676896  00000026      26   \n",
       "318  uiug.30112001676896  00000319     319   \n",
       "352  uiug.30112001676896  00000353     353   \n",
       "167  uiug.30112001676896  00000168     168   \n",
       "323  uiug.30112001676896  00000324     324   \n",
       "291  uiug.30112001676896  00000292     292   \n",
       "87   uiug.30112001676896  00000088      88   \n",
       "347  uiug.30112001676896  00000348     348   \n",
       "140  uiug.30112001676896  00000141     141   \n",
       "\n",
       "                                               content  order label  \\\n",
       "101  80 HYMN TO PROSERPINE.\\nThough all men abase t...    102    80   \n",
       "25   4 A BALLAD OF LIFE.\\nAnd bosom carved to kiss....     26     4   \n",
       "318  THE TWO DREAMS. 297\\n*-*-*-\\nHer body's balanc...    319   297   \n",
       "352  THE BLOODY SON. 331\\n“And what will ye leave y...    353   331   \n",
       "167  146 A BALL AD OF BURDENS.\\nThy times and ways ...    168   146   \n",
       "323  302 THE TWO DREAMS.\\nThen a cool naked sense b...    324   302   \n",
       "291  270\\nTHE MASQUE OF QUEEN BERSABE.\\nBehold, Lor...    292   270   \n",
       "87   66 ANACTORIA.\\n------\\nI charge thee keep thy ...     88    66   \n",
       "347  326\\nAFTER DEATH.\\nHave they boiled my maid in...    348   326   \n",
       "140  A MATCH.\\nIF love were what the rose is,\\nAnd ...    141   119   \n",
       "\n",
       "                                       tags item_type  \n",
       "101                                      []      page  \n",
       "25                         [UNTYPICAL_PAGE]      page  \n",
       "318                  [IMPLICIT_PAGE_NUMBER]      page  \n",
       "352                        [UNTYPICAL_PAGE]      page  \n",
       "167                        [UNTYPICAL_PAGE]      page  \n",
       "323                                      []      page  \n",
       "291                                      []      page  \n",
       "87                   [IMPLICIT_PAGE_NUMBER]      page  \n",
       "347                        [UNTYPICAL_PAGE]      page  \n",
       "140  [UNTYPICAL_PAGE, IMPLICIT_PAGE_NUMBER]      page  "
      ]
     },
     "execution_count": 7,
     "metadata": {},
     "output_type": "execute_result"
    }
   ],
   "source": [
    "df_pages.sample(n=10)"
   ]
  },
  {
   "cell_type": "markdown",
   "id": "ac2fb0df-ba06-49d4-a5b1-43bebd933772",
   "metadata": {},
   "source": [
    "### From pages to strings"
   ]
  },
  {
   "cell_type": "code",
   "execution_count": 8,
   "id": "2b3b73ac-1446-4cff-acc5-98b9c9a60c36",
   "metadata": {},
   "outputs": [],
   "source": [
    "def get_txt_hathi(self,page_sep='\\n',line_sep='\\r'):\n",
    "    return page_sep.join(\n",
    "        d.get('content','')\n",
    "        for d in self.iter_pages()\n",
    "    )\n",
    "\n",
    "HathiObject.get_txt = get_txt_hathi"
   ]
  },
  {
   "cell_type": "code",
   "execution_count": 9,
   "id": "ee3dbb28-0722-4187-828a-23dedaf46cc0",
   "metadata": {},
   "outputs": [],
   "source": [
    "def get_txt_digiwork(self, *args, **kwargs):\n",
    "    if self.hathi: return self.hathi.get_txt(*args, **kwargs)\n",
    "    raise NotImplementedError\n",
    "\n",
    "DigitizedWork.get_txt = get_txt_digiwork"
   ]
  },
  {
   "cell_type": "code",
   "execution_count": 10,
   "id": "409146f1-138b-4545-9bcc-549f203b0fa2",
   "metadata": {},
   "outputs": [],
   "source": [
    "# print(work.get_txt())"
   ]
  },
  {
   "cell_type": "code",
   "execution_count": 11,
   "id": "817aa849-1204-4c69-a84d-60d3b3256230",
   "metadata": {},
   "outputs": [],
   "source": [
    "# work.hathi.get_txt()[:100]"
   ]
  },
  {
   "cell_type": "markdown",
   "id": "d9da3ca3-e83e-47c4-a426-580cf5282dd4",
   "metadata": {},
   "source": [
    "## Tokenizing"
   ]
  },
  {
   "cell_type": "code",
   "execution_count": 12,
   "id": "dbdb055b-09ed-47ee-bee4-f4eb4bc4f568",
   "metadata": {},
   "outputs": [
    {
     "data": {
      "text/plain": [
       "['this', 'iswefwe', 'qa', 'test']"
      ]
     },
     "execution_count": 12,
     "metadata": {},
     "output_type": "execute_result"
    }
   ],
   "source": [
    "tokenize(\"This—iswefwe®qa test\")"
   ]
  },
  {
   "cell_type": "code",
   "execution_count": 13,
   "id": "8d60dd2a",
   "metadata": {},
   "outputs": [
    {
     "data": {
      "text/plain": [
       "['most',\n",
       " 'common',\n",
       " 'and',\n",
       " 'the',\n",
       " 'most',\n",
       " 'general',\n",
       " 'yet',\n",
       " 'upon',\n",
       " 'examination',\n",
       " 'i',\n",
       " 'find',\n",
       " 'this',\n",
       " 'part',\n",
       " 'emotions',\n",
       " 'and',\n",
       " 'passions',\n",
       " 'single',\n",
       " 'part',\n",
       " 'so',\n",
       " 'extensive',\n",
       " 'as',\n",
       " 'to',\n",
       " 'require',\n",
       " 'a',\n",
       " 'subdivision',\n",
       " 'into',\n",
       " 'several',\n",
       " 'sec',\n",
       " 'tions',\n",
       " 'human',\n",
       " 'nature',\n",
       " 'is',\n",
       " 'a',\n",
       " 'complicated',\n",
       " 'machine',\n",
       " 'and',\n",
       " 'is',\n",
       " 'unavoidably',\n",
       " 'so',\n",
       " 'in',\n",
       " 'order',\n",
       " 'to',\n",
       " 'answer',\n",
       " 'its',\n",
       " 'various',\n",
       " 'purposes',\n",
       " 'the',\n",
       " 'public',\n",
       " 'indeed',\n",
       " 'have',\n",
       " 'been',\n",
       " 'entertained',\n",
       " 'with',\n",
       " 'many',\n",
       " 'systems',\n",
       " 'of',\n",
       " 'human',\n",
       " 'nature',\n",
       " 'that',\n",
       " 'flatter',\n",
       " 'the',\n",
       " 'mind',\n",
       " 'by',\n",
       " 'their',\n",
       " 'simplicity',\n",
       " 'according',\n",
       " 'to',\n",
       " 'some',\n",
       " 'writers',\n",
       " 'man',\n",
       " 'is',\n",
       " 'entirely']"
      ]
     },
     "execution_count": 13,
     "metadata": {},
     "output_type": "execute_result"
    }
   ],
   "source": [
    "tokenize(\"\"\"most common and the most general, yet upon examination I find this\n",
    "\n",
    "Part 1.)\n",
    "EMOTIONS AND PASSIONS.\n",
    "27\n",
    "single part so extensive, as to require a subdivision into several sec.\n",
    "tions. Human nature is a complicated machine, and is unavoidably\n",
    "so, in order to answer its various purposes. The public indeed have\n",
    "been entertained with many systems of human nature that flatter the\n",
    "mind by their simplicity. According to some writers, man is entirely\n",
    "\"\"\")"
   ]
  },
  {
   "cell_type": "code",
   "execution_count": 40,
   "id": "a485ec74-6c9a-48b8-86bf-a75675f99cf4",
   "metadata": {},
   "outputs": [],
   "source": [
    "def get_tokens(self):\n",
    "    return tokenize(self.get_txt())\n",
    "\n",
    "DigitizedWork.get_tokens = get_tokens"
   ]
  },
  {
   "cell_type": "code",
   "execution_count": 41,
   "id": "12e52be6-5f64-4ac2-a0b3-15be9ed1ffbe",
   "metadata": {},
   "outputs": [
    {
     "data": {
      "text/plain": [
       "['andover', 'harvard', 'library', 'ah', 's']"
      ]
     },
     "execution_count": 41,
     "metadata": {},
     "output_type": "execute_result"
    }
   ],
   "source": [
    "work.get_tokens()[:5]"
   ]
  },
  {
   "cell_type": "markdown",
   "id": "52c3bb80-f655-406d-a2bb-201077e92092",
   "metadata": {},
   "source": [
    "## Counting"
   ]
  },
  {
   "cell_type": "code",
   "execution_count": 42,
   "id": "f3e40756-5480-4074-99e5-364f80c25924",
   "metadata": {},
   "outputs": [],
   "source": [
    "def calc_counts(self):\n",
    "    # return Counter(self.get_tokens())\n",
    "    # return dict(Counter(self.get_tokens()))\n",
    "    return dict(Counter(self.get_tokens()).most_common())\n",
    "\n",
    "DigitizedWork.calc_counts = calc_counts"
   ]
  },
  {
   "cell_type": "code",
   "execution_count": 47,
   "id": "3e61ac91-1e85-44af-aa21-2782443e3702",
   "metadata": {},
   "outputs": [
    {
     "data": {
      "text/plain": [
       "3"
      ]
     },
     "execution_count": 47,
     "metadata": {},
     "output_type": "execute_result"
    }
   ],
   "source": [
    "work.calc_counts().get('ballad',0)"
   ]
  },
  {
   "cell_type": "code",
   "execution_count": 50,
   "id": "47da09e3",
   "metadata": {},
   "outputs": [
    {
     "data": {
      "text/plain": [
       "48"
      ]
     },
     "execution_count": 50,
     "metadata": {},
     "output_type": "execute_result"
    }
   ],
   "source": [
    "work.calc_counts().get('personification',0)"
   ]
  },
  {
   "cell_type": "code",
   "execution_count": 45,
   "id": "d1a08bcf",
   "metadata": {},
   "outputs": [
    {
     "data": {
      "text/plain": [
       "('Elements of criticism', 'Kames, Henry Home, Lord, 1696-1782', 1842)"
      ]
     },
     "execution_count": 45,
     "metadata": {},
     "output_type": "execute_result"
    }
   ],
   "source": [
    "work.title, work.author, work.pub_date"
   ]
  },
  {
   "cell_type": "code",
   "execution_count": null,
   "id": "c9cf2d4d",
   "metadata": {},
   "outputs": [],
   "source": []
  }
 ],
 "metadata": {
  "kernelspec": {
   "display_name": "ppa-nlp",
   "language": "python",
   "name": "ppa-nlp"
  },
  "language_info": {
   "codemirror_mode": {
    "name": "ipython",
    "version": 3
   },
   "file_extension": ".py",
   "mimetype": "text/x-python",
   "name": "python",
   "nbconvert_exporter": "python",
   "pygments_lexer": "ipython3",
   "version": "3.8.14"
  }
 },
 "nbformat": 4,
 "nbformat_minor": 5
}
