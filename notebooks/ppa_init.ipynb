{
 "cells": [
  {
   "cell_type": "code",
   "execution_count": 1,
   "id": "71bdd8f6-bbd5-4a22-ab71-cb41cadac19d",
   "metadata": {},
   "outputs": [
    {
     "data": {
      "text/plain": [
       "'/Users/ryan/github/ppa-nlp/notebooks'"
      ]
     },
     "execution_count": 1,
     "metadata": {},
     "output_type": "execute_result"
    }
   ],
   "source": [
    "# code to allow django to play nice with jupyter\n",
    "# see Method 2 from https://gist.github.com/EtsuNDmA/dd8949061783bf593706559374c8f635\n",
    "import os, sys,django\n",
    "HERENOW = os.getcwd()\n",
    "PROJECTPATH = os.path.abspath('..') # one above notebooks folder?\n",
    "\n",
    "sys.path.insert(0, PROJECTPATH)\n",
    "os.environ.setdefault(\"DJANGO_SETTINGS_MODULE\", \"ppa.settings\")\n",
    "os.environ[\"DJANGO_ALLOW_ASYNC_UNSAFE\"] = \"true\"\n",
    "os.chdir(PROJECTPATH)\n",
    "django.setup()\n",
    "os.chdir(HERENOW)\n",
    "os.getcwd()"
   ]
  },
  {
   "cell_type": "code",
   "execution_count": 1,
   "id": "5868c006",
   "metadata": {},
   "outputs": [],
   "source": [
    "import sys; sys.path.insert(0,'/Users/ryan/github/yapmap')\n",
    "from yapmap import pmap, pmap_iter, pmap_run"
   ]
  },
  {
   "cell_type": "code",
   "execution_count": 2,
   "id": "523da08a",
   "metadata": {},
   "outputs": [],
   "source": [
    "import logging\n",
    "logger = logging.getLogger(__name__)\n",
    "logger.setLevel('DEBUG')\n"
   ]
  },
  {
   "cell_type": "code",
   "execution_count": 30,
   "id": "340bb31c",
   "metadata": {},
   "outputs": [],
   "source": [
    "\n",
    "import time\n",
    "class timer:\n",
    "    PRINT = True\n",
    "\n",
    "    def __init__(self,desc='timer'):\n",
    "        self.desc=desc\n",
    "    def __enter__(self):\n",
    "        self.now=time.time()\n",
    "        self.print(f'{self.desc} ...', end=' ')\n",
    "        return self\n",
    "    def __exit__(self,*x,**y):\n",
    "        self.print(f'{round(time.time() - self.now, 1)}s',end='\\n')\n",
    "    def print(self,x, end = '\\n'):\n",
    "        if timer.PRINT:\n",
    "            print(x, end = end)\n"
   ]
  },
  {
   "cell_type": "code",
   "execution_count": 2,
   "id": "b4d83bc3",
   "metadata": {},
   "outputs": [],
   "source": [
    "import warnings\n",
    "warnings.filterwarnings('ignore')"
   ]
  },
  {
   "cell_type": "code",
   "execution_count": null,
   "id": "1dfdbfd9-8c53-431f-9321-58488a1e0c2e",
   "metadata": {},
   "outputs": [],
   "source": [
    "# Last minute configs?\n",
    "from django.conf import settings\n",
    "settings.HATHI_DATA = '/Users/ryan/data/ppa/ht_text_pd'"
   ]
  },
  {
   "cell_type": "code",
   "execution_count": 5,
   "id": "28fbe3b8-a43c-42ef-9172-79de8175dd8d",
   "metadata": {},
   "outputs": [],
   "source": [
    "# stdlib imports\n",
    "import random\n",
    "from collections import Counter\n",
    "from datetime import datetime\n",
    "from pprint import pprint,pformat"
   ]
  },
  {
   "cell_type": "code",
   "execution_count": 5,
   "id": "75f0f900-d58d-40e5-bf90-3ba40b7d9ddf",
   "metadata": {},
   "outputs": [],
   "source": [
    "# other imports\n",
    "import pandas as pd,numpy as np\n",
    "from tqdm import tqdm"
   ]
  },
  {
   "cell_type": "code",
   "execution_count": 11,
   "id": "cf97a31f-e5eb-4f7a-a04e-de53d095e3d4",
   "metadata": {},
   "outputs": [],
   "source": [
    "# project imports\n",
    "from ppa.archive.models import *\n",
    "from ppa.cache.models import *"
   ]
  },
  {
   "cell_type": "markdown",
   "id": "0ac906a4-1d53-430c-870e-35559bffc745",
   "metadata": {},
   "source": [
    "## Other notebooks?"
   ]
  },
  {
   "cell_type": "code",
   "execution_count": 7,
   "id": "664ebabc-8cfd-45e4-9d6a-128de6791dd7",
   "metadata": {},
   "outputs": [],
   "source": [
    "%run ppa_utils.ipynb"
   ]
  }
 ],
 "metadata": {
  "kernelspec": {
   "display_name": "ppa-nlp",
   "language": "python",
   "name": "ppa-nlp"
  },
  "language_info": {
   "codemirror_mode": {
    "name": "ipython",
    "version": 3
   },
   "file_extension": ".py",
   "mimetype": "text/x-python",
   "name": "python",
   "nbconvert_exporter": "python",
   "pygments_lexer": "ipython3",
   "version": "3.8.14 (default, Sep 27 2022, 10:48:18) \n[Clang 13.1.6 (clang-1316.0.21.2.5)]"
  },
  "vscode": {
   "interpreter": {
    "hash": "a26afea0148184adcf96d9e854e9a32e5f0c213ceb3100f49c8a7d0e8bc5ae95"
   }
  }
 },
 "nbformat": 4,
 "nbformat_minor": 5
}
