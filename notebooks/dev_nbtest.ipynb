{
 "cells": [
  {
   "cell_type": "code",
   "execution_count": 1,
   "metadata": {},
   "outputs": [],
   "source": [
    "%run ppa_init.ipynb"
   ]
  },
  {
   "cell_type": "code",
   "execution_count": 2,
   "metadata": {},
   "outputs": [],
   "source": [
    "works = DigitizedWork.objects.all()"
   ]
  },
  {
   "cell_type": "code",
   "execution_count": 3,
   "metadata": {},
   "outputs": [
    {
     "name": "stderr",
     "output_type": "stream",
     "text": [
      "INFO:parasolr.django.solrclient:Connecting to default Solr http://localhost:8983/solr/ppanlp\n"
     ]
    },
    {
     "data": {
      "text/plain": [
       "6332"
      ]
     },
     "execution_count": 3,
     "metadata": {},
     "output_type": "execute_result"
    }
   ],
   "source": [
    "len(works)"
   ]
  },
  {
   "cell_type": "code",
   "execution_count": 4,
   "metadata": {},
   "outputs": [],
   "source": [
    "work = random.choice(works)"
   ]
  },
  {
   "cell_type": "code",
   "execution_count": 7,
   "metadata": {},
   "outputs": [
    {
     "data": {
      "text/plain": [
       "{'_state': <django.db.models.base.ModelState at 0x12c6a3f40>,\n",
       " 'id': 4743,\n",
       " 'source': 'HT',\n",
       " 'source_id': 'wu.89099897688',\n",
       " 'source_url': 'https://hdl.handle.net/2027/wu.89099897688',\n",
       " 'record_id': '008994051',\n",
       " 'title': 'The genesis of British war poetry',\n",
       " 'subtitle': '',\n",
       " 'sort_title': 'genesis of British war poetry /',\n",
       " 'enumcron': '',\n",
       " 'author': 'Murphy, William S.',\n",
       " 'pub_place': 'London',\n",
       " 'publisher': 'Simpkin, Marshall, Hamilton, Kent & Co.',\n",
       " 'pub_date': 1918,\n",
       " 'page_count': 192,\n",
       " 'public_notes': '',\n",
       " 'notes': '',\n",
       " 'protected_fields': <ProtectedWorkFieldFlags.pub_place bits=0x0020 data=UNDEFINED>,\n",
       " 'added': datetime.datetime(2018, 1, 23, 20, 16, 56, tzinfo=<UTC>),\n",
       " 'updated': datetime.datetime(2019, 3, 13, 20, 10, 40, tzinfo=<UTC>),\n",
       " 'status': 'S',\n",
       " 'item_type': 'F',\n",
       " 'book_journal': '',\n",
       " 'pages_orig': '',\n",
       " 'pages_digital': '',\n",
       " '_TrackChangesModel__initial': {'_state': <django.db.models.base.ModelState at 0x12c6a3f40>,\n",
       "  'id': 4743,\n",
       "  'source': 'HT',\n",
       "  'source_id': 'wu.89099897688',\n",
       "  'source_url': 'https://hdl.handle.net/2027/wu.89099897688',\n",
       "  'record_id': '008994051',\n",
       "  'title': 'The genesis of British war poetry',\n",
       "  'subtitle': '',\n",
       "  'sort_title': 'genesis of British war poetry /',\n",
       "  'enumcron': '',\n",
       "  'author': 'Murphy, William S.',\n",
       "  'pub_place': 'London',\n",
       "  'publisher': 'Simpkin, Marshall, Hamilton, Kent & Co.',\n",
       "  'pub_date': 1918,\n",
       "  'page_count': 192,\n",
       "  'public_notes': '',\n",
       "  'notes': '',\n",
       "  'protected_fields': <ProtectedWorkFieldFlags.pub_place bits=0x0020 data=UNDEFINED>,\n",
       "  'added': datetime.datetime(2018, 1, 23, 20, 16, 56, tzinfo=<UTC>),\n",
       "  'updated': datetime.datetime(2019, 3, 13, 20, 10, 40, tzinfo=<UTC>),\n",
       "  'status': 'S',\n",
       "  'item_type': 'F',\n",
       "  'book_journal': '',\n",
       "  'pages_orig': '',\n",
       "  'pages_digital': ''}}"
      ]
     },
     "execution_count": 7,
     "metadata": {},
     "output_type": "execute_result"
    }
   ],
   "source": [
    "work.__dict__"
   ]
  },
  {
   "cell_type": "code",
   "execution_count": null,
   "metadata": {},
   "outputs": [],
   "source": []
  }
 ],
 "metadata": {
  "kernelspec": {
   "display_name": "venv",
   "language": "python",
   "name": "python3"
  },
  "language_info": {
   "codemirror_mode": {
    "name": "ipython",
    "version": 3
   },
   "file_extension": ".py",
   "mimetype": "text/x-python",
   "name": "python",
   "nbconvert_exporter": "python",
   "pygments_lexer": "ipython3",
   "version": "3.8.14"
  },
  "orig_nbformat": 4,
  "vscode": {
   "interpreter": {
    "hash": "a26afea0148184adcf96d9e854e9a32e5f0c213ceb3100f49c8a7d0e8bc5ae95"
   }
  }
 },
 "nbformat": 4,
 "nbformat_minor": 2
}
