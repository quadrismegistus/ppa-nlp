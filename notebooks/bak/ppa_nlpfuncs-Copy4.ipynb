{
 "cells": [
  {
   "cell_type": "markdown",
   "id": "a06f6490-ae38-4deb-88dc-0010e821c284",
   "metadata": {},
   "source": [
    "# New nlpfuncs for hathi/digitizedwork"
   ]
  },
  {
   "cell_type": "code",
   "execution_count": 1,
   "id": "ba306269-3e0c-4127-8437-0de9af090882",
   "metadata": {},
   "outputs": [],
   "source": [
    "%run ppa_init.ipynb"
   ]
  },
  {
   "cell_type": "code",
   "execution_count": 2,
   "id": "d230f51d-217a-4b83-82da-45aeea6f6507",
   "metadata": {},
   "outputs": [
    {
     "name": "stderr",
     "output_type": "stream",
     "text": [
      "INFO:parasolr.django.solrclient:Connecting to default Solr http://localhost:8983/solr/ppanlp\n"
     ]
    },
    {
     "data": {
      "text/plain": [
       "5124"
      ]
     },
     "execution_count": 2,
     "metadata": {},
     "output_type": "execute_result"
    }
   ],
   "source": [
    "digiworks=[t for t in DigitizedWork.objects.all() if t.hathi]\n",
    "len(digiworks)"
   ]
  },
  {
   "cell_type": "markdown",
   "id": "7b270220-f5e6-42f0-a44c-bb54fd5e6559",
   "metadata": {},
   "source": [
    "## Getting full text"
   ]
  },
  {
   "cell_type": "markdown",
   "id": "08b4d2f7-a32a-49ca-b757-53fdc37c9242",
   "metadata": {
    "tags": []
   },
   "source": [
    "### Hathi Trust: via page data"
   ]
  },
  {
   "cell_type": "code",
   "execution_count": 3,
   "id": "ce8a080c-b6d7-44e3-9867-42336b9a0068",
   "metadata": {},
   "outputs": [],
   "source": [
    "# Adapted from hathi_page_index_data\n",
    "\n",
    "def iter_pages(self, page_span=None, **meta):\n",
    "    \"\"\"Get page content for the specified digitized work from Hathi\n",
    "    pairtree and return data to be indexed in solr.\"\"\"\n",
    "\n",
    "    from zipfile import ZipFile\n",
    "    from eulxml.xmlmap import load_xmlobject_from_file\n",
    "    from ppa.archive.hathi import MinimalMETS\n",
    "    from pairtree import storage_exceptions\n",
    "\n",
    "\n",
    "    # load mets record to pull metadata about the images\n",
    "    try:\n",
    "        mmets = load_xmlobject_from_file(self.metsfile_path(), MinimalMETS)\n",
    "    except storage_exceptions.ObjectNotFoundException:\n",
    "        # logger.debug(\n",
    "        #     \"Pairtree data for %s not found\",\n",
    "        #     self.hathi_id,\n",
    "        # )\n",
    "        return\n",
    "\n",
    "    # read zipfile contents in place, without unzipping\n",
    "    with ZipFile(self.zipfile_path()) as ht_zip:\n",
    "        # yield a generator of index data for each page; iterate\n",
    "        # over pages in METS structmap\n",
    "        for i, page in enumerate(mmets.structmap_pages, 1):\n",
    "            # if the document has a page range defined, skip any pages not in range\n",
    "            if page_span and i not in page_span: continue\n",
    "\n",
    "            # zipfile spec uses / for path regardless of OS\n",
    "            pagefilename = f'{self.content_dir}/{page.text_file_location}'\n",
    "\n",
    "            with ht_zip.open(pagefilename) as pagefile:\n",
    "                try:\n",
    "                    yield {\n",
    "                        \"source_id\": self.hathi_id,\n",
    "                        \"page_id\": page.text_file.sequence,                        \n",
    "                        \"page_i\": i,\n",
    "                        \"content\": pagefile.read().decode(\"utf-8\"),\n",
    "                        \"order\": page.order,\n",
    "                        \"label\": page.display_label,\n",
    "                        \"tags\": page.label.split(\", \") if page.label else [],\n",
    "                        \"item_type\": \"page\",\n",
    "                    }\n",
    "                except StopIteration:\n",
    "                    return\n",
    "\n",
    "                \n",
    "HathiObject.iter_pages = iter_pages"
   ]
  },
  {
   "cell_type": "code",
   "execution_count": 4,
   "id": "c0ea7e25-b420-4ac8-8659-c754280d26ff",
   "metadata": {},
   "outputs": [
    {
     "data": {
      "text/html": [
       "<div>\n",
       "<style scoped>\n",
       "    .dataframe tbody tr th:only-of-type {\n",
       "        vertical-align: middle;\n",
       "    }\n",
       "\n",
       "    .dataframe tbody tr th {\n",
       "        vertical-align: top;\n",
       "    }\n",
       "\n",
       "    .dataframe thead th {\n",
       "        text-align: right;\n",
       "    }\n",
       "</style>\n",
       "<table border=\"1\" class=\"dataframe\">\n",
       "  <thead>\n",
       "    <tr style=\"text-align: right;\">\n",
       "      <th></th>\n",
       "      <th>source_id</th>\n",
       "      <th>page_id</th>\n",
       "      <th>page_i</th>\n",
       "      <th>content</th>\n",
       "      <th>order</th>\n",
       "      <th>label</th>\n",
       "      <th>tags</th>\n",
       "      <th>item_type</th>\n",
       "    </tr>\n",
       "  </thead>\n",
       "  <tbody>\n",
       "    <tr>\n",
       "      <th>0</th>\n",
       "      <td>mdp.39015030930179</td>\n",
       "      <td>00000001</td>\n",
       "      <td>1</td>\n",
       "      <td>A history of English poetryWilliam John Courth...</td>\n",
       "      <td>1</td>\n",
       "      <td>1</td>\n",
       "      <td>[FRONT_COVER, IMAGE_ON_PAGE, FRONT_COVER_IMAGE...</td>\n",
       "      <td>page</td>\n",
       "    </tr>\n",
       "    <tr>\n",
       "      <th>1</th>\n",
       "      <td>mdp.39015030930179</td>\n",
       "      <td>00000002</td>\n",
       "      <td>2</td>\n",
       "      <td>\\nE\\nHAIR BULUU\\n1817\\nARTES\\nhamuMWILINIMIN\\n...</td>\n",
       "      <td>2</td>\n",
       "      <td>2</td>\n",
       "      <td>[IMAGE_ON_PAGE, IMPLICIT_PAGE_NUMBER]</td>\n",
       "      <td>page</td>\n",
       "    </tr>\n",
       "    <tr>\n",
       "      <th>2</th>\n",
       "      <td>mdp.39015030930179</td>\n",
       "      <td>00000003</td>\n",
       "      <td>3</td>\n",
       "      <td>\\n</td>\n",
       "      <td>3</td>\n",
       "      <td>3</td>\n",
       "      <td>[IMPLICIT_PAGE_NUMBER]</td>\n",
       "      <td>page</td>\n",
       "    </tr>\n",
       "    <tr>\n",
       "      <th>3</th>\n",
       "      <td>mdp.39015030930179</td>\n",
       "      <td>00000004</td>\n",
       "      <td>4</td>\n",
       "      <td>\\n</td>\n",
       "      <td>4</td>\n",
       "      <td>4</td>\n",
       "      <td>[IMPLICIT_PAGE_NUMBER]</td>\n",
       "      <td>page</td>\n",
       "    </tr>\n",
       "    <tr>\n",
       "      <th>4</th>\n",
       "      <td>mdp.39015030930179</td>\n",
       "      <td>00000005</td>\n",
       "      <td>5</td>\n",
       "      <td>\\nA HISTORY\\nOF\\nGLISH POETRY\\nBY\\nCOURTHOPE, ...</td>\n",
       "      <td>5</td>\n",
       "      <td>5</td>\n",
       "      <td>[TITLE, IMAGE_ON_PAGE, UNTYPICAL_PAGE, IMPLICI...</td>\n",
       "      <td>page</td>\n",
       "    </tr>\n",
       "    <tr>\n",
       "      <th>...</th>\n",
       "      <td>...</td>\n",
       "      <td>...</td>\n",
       "      <td>...</td>\n",
       "      <td>...</td>\n",
       "      <td>...</td>\n",
       "      <td>...</td>\n",
       "      <td>...</td>\n",
       "      <td>...</td>\n",
       "    </tr>\n",
       "    <tr>\n",
       "      <th>475</th>\n",
       "      <td>mdp.39015030930179</td>\n",
       "      <td>00000476</td>\n",
       "      <td>476</td>\n",
       "      <td></td>\n",
       "      <td>476</td>\n",
       "      <td>476</td>\n",
       "      <td>[BLANK, IMPLICIT_PAGE_NUMBER]</td>\n",
       "      <td>page</td>\n",
       "    </tr>\n",
       "    <tr>\n",
       "      <th>476</th>\n",
       "      <td>mdp.39015030930179</td>\n",
       "      <td>00000477</td>\n",
       "      <td>477</td>\n",
       "      <td>\\n</td>\n",
       "      <td>477</td>\n",
       "      <td>477</td>\n",
       "      <td>[IMPLICIT_PAGE_NUMBER]</td>\n",
       "      <td>page</td>\n",
       "    </tr>\n",
       "    <tr>\n",
       "      <th>477</th>\n",
       "      <td>mdp.39015030930179</td>\n",
       "      <td>00000478</td>\n",
       "      <td>478</td>\n",
       "      <td>\\nTHE UNIVERSITY OF MICHIGAN\\nGRADUATE LIBRARY...</td>\n",
       "      <td>478</td>\n",
       "      <td>478</td>\n",
       "      <td>[CHECKOUT_PAGE, UNTYPICAL_PAGE, IMPLICIT_PAGE_...</td>\n",
       "      <td>page</td>\n",
       "    </tr>\n",
       "    <tr>\n",
       "      <th>478</th>\n",
       "      <td>mdp.39015030930179</td>\n",
       "      <td>00000479</td>\n",
       "      <td>479</td>\n",
       "      <td>\\nUNIVERSITY OF MICHIGAN\\n3 9015 03093 0179\\nB...</td>\n",
       "      <td>479</td>\n",
       "      <td>479</td>\n",
       "      <td>[IMAGE_ON_PAGE, CHECKOUT_PAGE, UNTYPICAL_PAGE,...</td>\n",
       "      <td>page</td>\n",
       "    </tr>\n",
       "    <tr>\n",
       "      <th>479</th>\n",
       "      <td>mdp.39015030930179</td>\n",
       "      <td>00000480</td>\n",
       "      <td>480</td>\n",
       "      <td>■ H ■\\n\\n'\\n1 - 4\\n^H\\n■\\n^fl\\n.-;-1\\n■ ■\\nI m...</td>\n",
       "      <td>480</td>\n",
       "      <td>480</td>\n",
       "      <td>[BACK_COVER, IMAGE_ON_PAGE, UNTYPICAL_PAGE, IM...</td>\n",
       "      <td>page</td>\n",
       "    </tr>\n",
       "  </tbody>\n",
       "</table>\n",
       "<p>480 rows × 8 columns</p>\n",
       "</div>"
      ],
      "text/plain": [
       "              source_id   page_id  page_i  \\\n",
       "0    mdp.39015030930179  00000001       1   \n",
       "1    mdp.39015030930179  00000002       2   \n",
       "2    mdp.39015030930179  00000003       3   \n",
       "3    mdp.39015030930179  00000004       4   \n",
       "4    mdp.39015030930179  00000005       5   \n",
       "..                  ...       ...     ...   \n",
       "475  mdp.39015030930179  00000476     476   \n",
       "476  mdp.39015030930179  00000477     477   \n",
       "477  mdp.39015030930179  00000478     478   \n",
       "478  mdp.39015030930179  00000479     479   \n",
       "479  mdp.39015030930179  00000480     480   \n",
       "\n",
       "                                               content  order label  \\\n",
       "0    A history of English poetryWilliam John Courth...      1     1   \n",
       "1    \\nE\\nHAIR BULUU\\n1817\\nARTES\\nhamuMWILINIMIN\\n...      2     2   \n",
       "2                                                   \\n      3     3   \n",
       "3                                                   \\n      4     4   \n",
       "4    \\nA HISTORY\\nOF\\nGLISH POETRY\\nBY\\nCOURTHOPE, ...      5     5   \n",
       "..                                                 ...    ...   ...   \n",
       "475                                                       476   476   \n",
       "476                                                 \\n    477   477   \n",
       "477  \\nTHE UNIVERSITY OF MICHIGAN\\nGRADUATE LIBRARY...    478   478   \n",
       "478  \\nUNIVERSITY OF MICHIGAN\\n3 9015 03093 0179\\nB...    479   479   \n",
       "479  ■ H ■\\n\\n'\\n1 - 4\\n^H\\n■\\n^fl\\n.-;-1\\n■ ■\\nI m...    480   480   \n",
       "\n",
       "                                                  tags item_type  \n",
       "0    [FRONT_COVER, IMAGE_ON_PAGE, FRONT_COVER_IMAGE...      page  \n",
       "1                [IMAGE_ON_PAGE, IMPLICIT_PAGE_NUMBER]      page  \n",
       "2                               [IMPLICIT_PAGE_NUMBER]      page  \n",
       "3                               [IMPLICIT_PAGE_NUMBER]      page  \n",
       "4    [TITLE, IMAGE_ON_PAGE, UNTYPICAL_PAGE, IMPLICI...      page  \n",
       "..                                                 ...       ...  \n",
       "475                      [BLANK, IMPLICIT_PAGE_NUMBER]      page  \n",
       "476                             [IMPLICIT_PAGE_NUMBER]      page  \n",
       "477  [CHECKOUT_PAGE, UNTYPICAL_PAGE, IMPLICIT_PAGE_...      page  \n",
       "478  [IMAGE_ON_PAGE, CHECKOUT_PAGE, UNTYPICAL_PAGE,...      page  \n",
       "479  [BACK_COVER, IMAGE_ON_PAGE, UNTYPICAL_PAGE, IM...      page  \n",
       "\n",
       "[480 rows x 8 columns]"
      ]
     },
     "execution_count": 4,
     "metadata": {},
     "output_type": "execute_result"
    }
   ],
   "source": [
    "work = random.choice(digiworks)\n",
    "hathiobj = work.hathi\n",
    "df_pages = pd.DataFrame(hathiobj.iter_pages())\n",
    "df_pages"
   ]
  },
  {
   "cell_type": "markdown",
   "id": "ac2fb0df-ba06-49d4-a5b1-43bebd933772",
   "metadata": {},
   "source": [
    "### From pages to strings"
   ]
  },
  {
   "cell_type": "code",
   "execution_count": 5,
   "id": "2b3b73ac-1446-4cff-acc5-98b9c9a60c36",
   "metadata": {},
   "outputs": [],
   "source": [
    "def get_txt(self,page_sep='\\n',line_sep='\\r'):\n",
    "    \"\"\"\n",
    "    Get plain text of HathiObject.\n",
    "    \"\"\"\n",
    "    \n",
    "    return page_sep.join(\n",
    "        standardize_newlines(\n",
    "            d.get('content',''),\n",
    "            correct=line_sep\n",
    "        )\n",
    "        for d in self.iter_pages()\n",
    "    )\n",
    "\n",
    "HathiObject.get_txt = get_txt"
   ]
  },
  {
   "cell_type": "code",
   "execution_count": 6,
   "id": "ee3dbb28-0722-4187-828a-23dedaf46cc0",
   "metadata": {},
   "outputs": [],
   "source": [
    "def get_txt(self, *args, **kwargs):\n",
    "    \"\"\"\n",
    "    Get plain text of DigitizedWork.\n",
    "    \"\"\"\n",
    "    \n",
    "    if self.hathi:\n",
    "        return self.hathi.get_txt(*args, **kwargs)\n",
    "    raise NotImplementedError\n",
    "\n",
    "DigitizedWork.get_txt = get_txt"
   ]
  },
  {
   "cell_type": "code",
   "execution_count": 7,
   "id": "409146f1-138b-4545-9bcc-549f203b0fa2",
   "metadata": {},
   "outputs": [
    {
     "data": {
      "text/plain": [
       "'\\rᎢᎸᎬ ANᎸLYTIC ᎯᎠ PᎡᎯCTICAL GᎡᎯᏓᎯᏒ\\rCONCISE MANUAL\\rENGLISH GRAMMAR,\\rARRANGED ON THE PRINCIPLE OF ANALY'"
      ]
     },
     "execution_count": 7,
     "metadata": {},
     "output_type": "execute_result"
    }
   ],
   "source": [
    "work = random.choice(digiworks)\n",
    "work.get_txt()[:100]"
   ]
  },
  {
   "cell_type": "code",
   "execution_count": 8,
   "id": "817aa849-1204-4c69-a84d-60d3b3256230",
   "metadata": {},
   "outputs": [
    {
     "data": {
      "text/plain": [
       "'\\rᎢᎸᎬ ANᎸLYTIC ᎯᎠ PᎡᎯCTICAL GᎡᎯᏓᎯᏒ\\rCONCISE MANUAL\\rENGLISH GRAMMAR,\\rARRANGED ON THE PRINCIPLE OF ANALY'"
      ]
     },
     "execution_count": 8,
     "metadata": {},
     "output_type": "execute_result"
    }
   ],
   "source": [
    "work.hathi.get_txt()[:100]"
   ]
  },
  {
   "cell_type": "markdown",
   "id": "d9da3ca3-e83e-47c4-a426-580cf5282dd4",
   "metadata": {},
   "source": [
    "## Tokenizing"
   ]
  },
  {
   "cell_type": "code",
   "execution_count": 9,
   "id": "dbdb055b-09ed-47ee-bee4-f4eb4bc4f568",
   "metadata": {},
   "outputs": [
    {
     "data": {
      "text/plain": [
       "['this', 'iswefwe', 'qa', 'test']"
      ]
     },
     "execution_count": 9,
     "metadata": {},
     "output_type": "execute_result"
    }
   ],
   "source": [
    "tokenize(\"This—iswefwe®qa test\")"
   ]
  },
  {
   "cell_type": "code",
   "execution_count": 10,
   "id": "a485ec74-6c9a-48b8-86bf-a75675f99cf4",
   "metadata": {},
   "outputs": [],
   "source": [
    "def get_tokens(self):\n",
    "    return tokenize(self.get_txt())\n",
    "\n",
    "DigitizedWork.get_tokens = get_tokens"
   ]
  },
  {
   "cell_type": "code",
   "execution_count": 11,
   "id": "12e52be6-5f64-4ac2-a0b3-15be9ed1ffbe",
   "metadata": {},
   "outputs": [
    {
     "data": {
      "text/plain": [
       "['ꭲꮈꭼ',\n",
       " 'anꮈlytic',\n",
       " 'ꭿꭰ',\n",
       " 'pꭱꭿctical',\n",
       " 'gꭱꭿꮣꭿꮢ',\n",
       " 'concise',\n",
       " 'manual',\n",
       " 'english',\n",
       " 'grammar',\n",
       " 'arranged']"
      ]
     },
     "execution_count": 11,
     "metadata": {},
     "output_type": "execute_result"
    }
   ],
   "source": [
    "work.get_tokens()[:10]"
   ]
  },
  {
   "cell_type": "markdown",
   "id": "52c3bb80-f655-406d-a2bb-201077e92092",
   "metadata": {},
   "source": [
    "## Counting"
   ]
  },
  {
   "cell_type": "code",
   "execution_count": 12,
   "id": "f3e40756-5480-4074-99e5-364f80c25924",
   "metadata": {},
   "outputs": [],
   "source": [
    "def calc_counts(self):\n",
    "    # return Counter(self.get_tokens())\n",
    "    # return dict(Counter(self.get_tokens()))\n",
    "    return dict(Counter(self.get_tokens()).most_common())\n",
    "\n",
    "DigitizedWork.calc_counts = calc_counts"
   ]
  },
  {
   "cell_type": "code",
   "execution_count": 13,
   "id": "3e61ac91-1e85-44af-aa21-2782443e3702",
   "metadata": {},
   "outputs": [
    {
     "data": {
      "text/plain": [
       "0"
      ]
     },
     "execution_count": 13,
     "metadata": {},
     "output_type": "execute_result"
    }
   ],
   "source": [
    "work.calc_counts().get('ballad',0)"
   ]
  },
  {
   "cell_type": "markdown",
   "id": "2d80dcc7-d5a0-4822-be3e-612834076efd",
   "metadata": {},
   "source": [
    "### Involving the db"
   ]
  },
  {
   "cell_type": "code",
   "execution_count": 14,
   "id": "31e9bf16-7ff4-4311-8b81-118cc43b55d9",
   "metadata": {},
   "outputs": [],
   "source": [
    "def get_or_create_counts(self):\n",
    "    try:\n",
    "        wwc = WorkWordCounts.objects.get(work=self)\n",
    "        countd = wwc.data\n",
    "    except WorkWordCounts.DoesNotExist:    \n",
    "        countd = self.calc_counts()\n",
    "        try:\n",
    "            wwc, created = WorkWordCounts.objects.get_or_create(work=self, data=countd)\n",
    "        except Exception as e:\n",
    "            log.debug(e)\n",
    "\n",
    "    return countd\n",
    "\n",
    "def get_counts(self):\n",
    "    countd = self.get_or_create_counts()\n",
    "    return dict(Counter(countd).most_common())\n",
    "\n",
    "def get_counts_total(self):\n",
    "    return sum(self.get_counts())\n",
    "\n",
    "DigitizedWork.get_or_create_counts = get_or_create_counts\n",
    "DigitizedWork.get_counts = get_counts\n",
    "DigitizedWork.get_counts_total = get_counts_total"
   ]
  },
  {
   "cell_type": "code",
   "execution_count": 15,
   "id": "91ca3478",
   "metadata": {},
   "outputs": [
    {
     "data": {
      "text/plain": [
       "<DigitizedWork: mdp.39015004300599>"
      ]
     },
     "execution_count": 15,
     "metadata": {},
     "output_type": "execute_result"
    }
   ],
   "source": [
    "work=random.choice(digiworks)\n",
    "work"
   ]
  },
  {
   "cell_type": "code",
   "execution_count": 19,
   "id": "77928787",
   "metadata": {},
   "outputs": [],
   "source": [
    "def cache_all():\n",
    "    pmap_run(\n",
    "        get_or_create_counts,\n",
    "        digiworks,\n",
    "        num_proc=8,\n",
    "    )\n",
    "\n",
    "# cache_all()"
   ]
  },
  {
   "cell_type": "code",
   "execution_count": null,
   "id": "de653c7d",
   "metadata": {},
   "outputs": [],
   "source": []
  }
 ],
 "metadata": {
  "kernelspec": {
   "display_name": "ppa-nlp",
   "language": "python",
   "name": "ppa-nlp"
  },
  "language_info": {
   "codemirror_mode": {
    "name": "ipython",
    "version": 3
   },
   "file_extension": ".py",
   "mimetype": "text/x-python",
   "name": "python",
   "nbconvert_exporter": "python",
   "pygments_lexer": "ipython3",
   "version": "3.8.14"
  }
 },
 "nbformat": 4,
 "nbformat_minor": 5
}
