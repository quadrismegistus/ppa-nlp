{
 "cells": [
  {
   "cell_type": "markdown",
   "id": "a06f6490-ae38-4deb-88dc-0010e821c284",
   "metadata": {},
   "source": [
    "# New nlpfuncs for hathi/digitizedwork"
   ]
  },
  {
   "cell_type": "code",
   "execution_count": null,
   "id": "ba306269-3e0c-4127-8437-0de9af090882",
   "metadata": {},
   "outputs": [],
   "source": [
    "%run ppa_init.ipynb\n",
    "%run ppa_nlpfuncs.ipynb"
   ]
  },
  {
   "cell_type": "markdown",
   "id": "a4f468ed",
   "metadata": {},
   "source": [
    "## Querying for matches"
   ]
  },
  {
   "cell_type": "code",
   "execution_count": null,
   "id": "be35083b",
   "metadata": {},
   "outputs": [],
   "source": [
    "class WordQuery:\n",
    "    \n",
    "    def __init__(self,word='',words=[]):\n",
    "        if word: words+=[word]\n",
    "        self._words = words\n",
    "        self._works = []\n",
    "        self._counts_df = None\n",
    "        self._qset = None\n",
    "    \n",
    "    def get_queryset(self):\n",
    "        if self._qset is None:\n",
    "            self._qset=WorkWordCounts.objects.filter(data__has_any_keys=self.get_words())\n",
    "        return self._qset\n",
    "\n",
    "    def get_works(self):\n",
    "        return [wwc.work for wwc in self.get_queryset()]\n",
    "    \n",
    "    def get_words(self):\n",
    "        return self._words\n",
    "    \n",
    "    def get_counts(self):\n",
    "        o = []\n",
    "        iterr = self.get_queryset()\n",
    "        for wwc in tqdm(iterr):\n",
    "            work = wwc.work\n",
    "            countd = wwc.data\n",
    "            total = sum(countd.values())\n",
    "            for word in self.get_words():\n",
    "                count = countd.get(word,0)\n",
    "                odx = dict(\n",
    "                    work=work.id,\n",
    "                    word=word,\n",
    "                    count=count,\n",
    "                    total=total,\n",
    "                    fpm=count/total*10**6\n",
    "                )\n",
    "                o.append(odx)\n",
    "        self._counts_df = pd.DataFrame(o).sort_values('fpm',ascending=False)        \n",
    "        return self._counts_df\n",
    "    \n",
    "    def get_meta(self, keys = ['title','pub_date']):\n",
    "        o = []\n",
    "        for work in self.get_works():\n",
    "            d = work.__dict__\n",
    "            odx = {k:d.get(k,'') for k in keys}\n",
    "            o.append(dict(work=work.id, **odx))\n",
    "        return pd.DataFrame(o)\n",
    "    "
   ]
  },
  {
   "cell_type": "code",
   "execution_count": null,
   "id": "59d063d0",
   "metadata": {},
   "outputs": [],
   "source": [
    "wq = WordQuery('ballad')\n",
    "wq.get_queryset()"
   ]
  },
  {
   "cell_type": "code",
   "execution_count": null,
   "id": "7b69fff2",
   "metadata": {},
   "outputs": [],
   "source": [
    "wq.get_meta()"
   ]
  },
  {
   "cell_type": "code",
   "execution_count": null,
   "id": "7115cedd",
   "metadata": {},
   "outputs": [],
   "source": [
    "wq.get_counts()"
   ]
  },
  {
   "cell_type": "code",
   "execution_count": null,
   "id": "ea22d514",
   "metadata": {},
   "outputs": [],
   "source": [
    "wq.get_counts().merge(wq.get_meta(), on='work', how='left')"
   ]
  },
  {
   "cell_type": "code",
   "execution_count": null,
   "id": "99edf915",
   "metadata": {},
   "outputs": [],
   "source": [
    "# @TODO: Is there no way to separate other languages?\n",
    "german_work = DigitizedWork.objects.get(id=3051)\n",
    "german_work.title\n",
    "german_work.get_txt()"
   ]
  },
  {
   "cell_type": "code",
   "execution_count": null,
   "id": "53b65489",
   "metadata": {},
   "outputs": [],
   "source": [
    "def get_lang(self):\n",
    "    from langdetect import detect\n",
    "\n",
    "    \n",
    "    \n",
    "\n",
    "\n",
    "def test_get_lang():\n",
    "    from langdetect import detect\n",
    "\n",
    "    german_works = {3051}\n",
    "    for id in german_works:\n",
    "        work = DigitizedWork.objects.get(id=id)\n",
    "        txt = work.get_txt()\n",
    "        print(work, work.title, detect(txt))\n",
    "        assert detect(txt) == 'de'\n",
    "        "
   ]
  },
  {
   "cell_type": "code",
   "execution_count": null,
   "id": "ef022d58",
   "metadata": {},
   "outputs": [],
   "source": [
    "test_get_lang()"
   ]
  },
  {
   "cell_type": "code",
   "execution_count": null,
   "id": "8a6f477e",
   "metadata": {},
   "outputs": [],
   "source": [
    "!pip install langdetect"
   ]
  },
  {
   "cell_type": "code",
   "execution_count": null,
   "id": "2a8f1fd8",
   "metadata": {},
   "outputs": [],
   "source": [
    "from langdetect import detect\n",
    "detect(\"Hello world\")"
   ]
  },
  {
   "cell_type": "code",
   "execution_count": null,
   "id": "99d069cb",
   "metadata": {},
   "outputs": [],
   "source": [
    "detect(\"Hallo Welt\")"
   ]
  },
  {
   "cell_type": "code",
   "execution_count": null,
   "id": "3c25aed8",
   "metadata": {},
   "outputs": [],
   "source": []
  }
 ],
 "metadata": {
  "kernelspec": {
   "display_name": "ppa-nlp",
   "language": "python",
   "name": "ppa-nlp"
  },
  "language_info": {
   "codemirror_mode": {
    "name": "ipython",
    "version": 3
   },
   "file_extension": ".py",
   "mimetype": "text/x-python",
   "name": "python",
   "nbconvert_exporter": "python",
   "pygments_lexer": "ipython3",
   "version": "3.8.14"
  }
 },
 "nbformat": 4,
 "nbformat_minor": 5
}
