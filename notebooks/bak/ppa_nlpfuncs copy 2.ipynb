{
 "cells": [
  {
   "cell_type": "markdown",
   "id": "a06f6490-ae38-4deb-88dc-0010e821c284",
   "metadata": {},
   "source": [
    "# New nlpfuncs for hathi/digitizedwork"
   ]
  },
  {
   "cell_type": "code",
   "execution_count": 1,
   "id": "ba306269-3e0c-4127-8437-0de9af090882",
   "metadata": {},
   "outputs": [],
   "source": [
    "%run ppa_init.ipynb"
   ]
  },
  {
   "cell_type": "code",
   "execution_count": 2,
   "id": "d230f51d-217a-4b83-82da-45aeea6f6507",
   "metadata": {},
   "outputs": [
    {
     "name": "stderr",
     "output_type": "stream",
     "text": [
      "INFO:parasolr.django.solrclient:Connecting to default Solr http://localhost:8983/solr/ppanlp\n"
     ]
    },
    {
     "data": {
      "text/plain": [
       "5124"
      ]
     },
     "execution_count": 2,
     "metadata": {},
     "output_type": "execute_result"
    }
   ],
   "source": [
    "digiworks=[t for t in DigitizedWork.objects.all() if t.hathi]\n",
    "len(digiworks)"
   ]
  },
  {
   "cell_type": "markdown",
   "id": "7b270220-f5e6-42f0-a44c-bb54fd5e6559",
   "metadata": {},
   "source": [
    "## Getting full text"
   ]
  },
  {
   "cell_type": "markdown",
   "id": "08b4d2f7-a32a-49ca-b757-53fdc37c9242",
   "metadata": {
    "tags": []
   },
   "source": [
    "### Hathi Trust: via page data"
   ]
  },
  {
   "cell_type": "code",
   "execution_count": 3,
   "id": "ce8a080c-b6d7-44e3-9867-42336b9a0068",
   "metadata": {},
   "outputs": [],
   "source": [
    "# Adapted from hathi_page_index_data\n",
    "\n",
    "def iter_pages(self, page_span=None, **meta):\n",
    "    \"\"\"Get page content for the specified digitized work from Hathi\n",
    "    pairtree and return data to be indexed in solr.\"\"\"\n",
    "\n",
    "    from zipfile import ZipFile\n",
    "    from eulxml.xmlmap import load_xmlobject_from_file\n",
    "    from ppa.archive.hathi import MinimalMETS\n",
    "    from pairtree import storage_exceptions\n",
    "\n",
    "\n",
    "    # load mets record to pull metadata about the images\n",
    "    try:\n",
    "        mmets = load_xmlobject_from_file(self.metsfile_path(), MinimalMETS)\n",
    "    except storage_exceptions.ObjectNotFoundException:\n",
    "        # logger.debug(\n",
    "        #     \"Pairtree data for %s not found\",\n",
    "        #     self.hathi_id,\n",
    "        # )\n",
    "        return\n",
    "\n",
    "    # read zipfile contents in place, without unzipping\n",
    "    with ZipFile(self.zipfile_path()) as ht_zip:\n",
    "        # yield a generator of index data for each page; iterate\n",
    "        # over pages in METS structmap\n",
    "        for i, page in enumerate(mmets.structmap_pages, 1):\n",
    "            # if the document has a page range defined, skip any pages not in range\n",
    "            if page_span and i not in page_span: continue\n",
    "\n",
    "            # zipfile spec uses / for path regardless of OS\n",
    "            pagefilename = f'{self.content_dir}/{page.text_file_location}'\n",
    "\n",
    "            with ht_zip.open(pagefilename) as pagefile:\n",
    "                try:\n",
    "                    yield {\n",
    "                        \"source_id\": self.hathi_id,\n",
    "                        \"page_id\": page.text_file.sequence,                        \n",
    "                        \"page_i\": i,\n",
    "                        \"content\": pagefile.read().decode(\"utf-8\"),\n",
    "                        \"order\": page.order,\n",
    "                        \"label\": page.display_label,\n",
    "                        \"tags\": page.label.split(\", \") if page.label else [],\n",
    "                        \"item_type\": \"page\",\n",
    "                    }\n",
    "                except StopIteration:\n",
    "                    return\n",
    "\n",
    "                \n",
    "HathiObject.iter_pages = iter_pages"
   ]
  },
  {
   "cell_type": "code",
   "execution_count": 4,
   "id": "c0ea7e25-b420-4ac8-8659-c754280d26ff",
   "metadata": {},
   "outputs": [
    {
     "data": {
      "text/html": [
       "<div>\n",
       "<style scoped>\n",
       "    .dataframe tbody tr th:only-of-type {\n",
       "        vertical-align: middle;\n",
       "    }\n",
       "\n",
       "    .dataframe tbody tr th {\n",
       "        vertical-align: top;\n",
       "    }\n",
       "\n",
       "    .dataframe thead th {\n",
       "        text-align: right;\n",
       "    }\n",
       "</style>\n",
       "<table border=\"1\" class=\"dataframe\">\n",
       "  <thead>\n",
       "    <tr style=\"text-align: right;\">\n",
       "      <th></th>\n",
       "      <th>source_id</th>\n",
       "      <th>page_id</th>\n",
       "      <th>page_i</th>\n",
       "      <th>content</th>\n",
       "      <th>order</th>\n",
       "      <th>label</th>\n",
       "      <th>tags</th>\n",
       "      <th>item_type</th>\n",
       "    </tr>\n",
       "  </thead>\n",
       "  <tbody>\n",
       "    <tr>\n",
       "      <th>0</th>\n",
       "      <td>mdp.39015059898422</td>\n",
       "      <td>00000001</td>\n",
       "      <td>1</td>\n",
       "      <td>\\nMftT\\n3 9015 00394 266 4\\nUniversity of Mich...</td>\n",
       "      <td>1</td>\n",
       "      <td>1</td>\n",
       "      <td>[FRONT_COVER, IMAGE_ON_PAGE, IMPLICIT_PAGE_NUM...</td>\n",
       "      <td>page</td>\n",
       "    </tr>\n",
       "    <tr>\n",
       "      <th>1</th>\n",
       "      <td>mdp.39015059898422</td>\n",
       "      <td>00000002</td>\n",
       "      <td>2</td>\n",
       "      <td>\\n</td>\n",
       "      <td>2</td>\n",
       "      <td>2</td>\n",
       "      <td>[IMAGE_ON_PAGE, IMPLICIT_PAGE_NUMBER]</td>\n",
       "      <td>page</td>\n",
       "    </tr>\n",
       "    <tr>\n",
       "      <th>2</th>\n",
       "      <td>mdp.39015059898422</td>\n",
       "      <td>00000003</td>\n",
       "      <td>3</td>\n",
       "      <td></td>\n",
       "      <td>3</td>\n",
       "      <td>3</td>\n",
       "      <td>[IMPLICIT_PAGE_NUMBER]</td>\n",
       "      <td>page</td>\n",
       "    </tr>\n",
       "    <tr>\n",
       "      <th>3</th>\n",
       "      <td>mdp.39015059898422</td>\n",
       "      <td>00000004</td>\n",
       "      <td>4</td>\n",
       "      <td></td>\n",
       "      <td>4</td>\n",
       "      <td>4</td>\n",
       "      <td>[BLANK, IMPLICIT_PAGE_NUMBER]</td>\n",
       "      <td>page</td>\n",
       "    </tr>\n",
       "    <tr>\n",
       "      <th>4</th>\n",
       "      <td>mdp.39015059898422</td>\n",
       "      <td>00000005</td>\n",
       "      <td>5</td>\n",
       "      <td>A\\nSYSTEM.\\nOF\\nPHONIC WRITING.\\nBY\\nCHARLES M...</td>\n",
       "      <td>5</td>\n",
       "      <td>1</td>\n",
       "      <td>[TITLE, FIRST_CONTENT_CHAPTER_START, UNTYPICAL...</td>\n",
       "      <td>page</td>\n",
       "    </tr>\n",
       "    <tr>\n",
       "      <th>5</th>\n",
       "      <td>mdp.39015059898422</td>\n",
       "      <td>00000006</td>\n",
       "      <td>6</td>\n",
       "      <td>N f 7'\\n&lt;\\nEntered, according to Act of Congre...</td>\n",
       "      <td>6</td>\n",
       "      <td>2</td>\n",
       "      <td>[UNTYPICAL_PAGE, IMPLICIT_PAGE_NUMBER]</td>\n",
       "      <td>page</td>\n",
       "    </tr>\n",
       "    <tr>\n",
       "      <th>6</th>\n",
       "      <td>mdp.39015059898422</td>\n",
       "      <td>00000007</td>\n",
       "      <td>7</td>\n",
       "      <td>PREFACE.\\nPhonic Writing consists of three kin...</td>\n",
       "      <td>7</td>\n",
       "      <td>3</td>\n",
       "      <td>[CHAPTER_START, UNTYPICAL_PAGE, IMPLICIT_PAGE_...</td>\n",
       "      <td>page</td>\n",
       "    </tr>\n",
       "    <tr>\n",
       "      <th>7</th>\n",
       "      <td>mdp.39015059898422</td>\n",
       "      <td>00000008</td>\n",
       "      <td>8</td>\n",
       "      <td></td>\n",
       "      <td>8</td>\n",
       "      <td>4</td>\n",
       "      <td>[IMPLICIT_PAGE_NUMBER]</td>\n",
       "      <td>page</td>\n",
       "    </tr>\n",
       "    <tr>\n",
       "      <th>8</th>\n",
       "      <td>mdp.39015059898422</td>\n",
       "      <td>00000009</td>\n",
       "      <td>9</td>\n",
       "      <td>A SYSTEM OF PHONIC WRITING.\\nPHONOSCRIPT AND P...</td>\n",
       "      <td>9</td>\n",
       "      <td>5</td>\n",
       "      <td>[CHAPTER_START, IMPLICIT_PAGE_NUMBER]</td>\n",
       "      <td>page</td>\n",
       "    </tr>\n",
       "    <tr>\n",
       "      <th>9</th>\n",
       "      <td>mdp.39015059898422</td>\n",
       "      <td>00000010</td>\n",
       "      <td>10</td>\n",
       "      <td>G\\nA SYSTEM OF PHONIC WRITING.\\nown. That is t...</td>\n",
       "      <td>10</td>\n",
       "      <td>6</td>\n",
       "      <td>[]</td>\n",
       "      <td>page</td>\n",
       "    </tr>\n",
       "    <tr>\n",
       "      <th>10</th>\n",
       "      <td>mdp.39015059898422</td>\n",
       "      <td>00000011</td>\n",
       "      <td>11</td>\n",
       "      <td>A SYSTEM OF PHONIC WRITING. 7\\nafter arriving ...</td>\n",
       "      <td>11</td>\n",
       "      <td>7</td>\n",
       "      <td>[]</td>\n",
       "      <td>page</td>\n",
       "    </tr>\n",
       "    <tr>\n",
       "      <th>11</th>\n",
       "      <td>mdp.39015059898422</td>\n",
       "      <td>00000012</td>\n",
       "      <td>12</td>\n",
       "      <td>8\\nA SYSTEM OF PHONIC WRITING.\\nhowever, of ob...</td>\n",
       "      <td>12</td>\n",
       "      <td>8</td>\n",
       "      <td>[]</td>\n",
       "      <td>page</td>\n",
       "    </tr>\n",
       "    <tr>\n",
       "      <th>12</th>\n",
       "      <td>mdp.39015059898422</td>\n",
       "      <td>00000013</td>\n",
       "      <td>13</td>\n",
       "      <td>A SYSTEM OF PHONIC WRITING.\\n9\\nbeen added in ...</td>\n",
       "      <td>13</td>\n",
       "      <td>9</td>\n",
       "      <td>[]</td>\n",
       "      <td>page</td>\n",
       "    </tr>\n",
       "    <tr>\n",
       "      <th>13</th>\n",
       "      <td>mdp.39015059898422</td>\n",
       "      <td>00000014</td>\n",
       "      <td>14</td>\n",
       "      <td>10\\nA SYSTEM OF PHONIC WRITING.\\nGreek ones, t...</td>\n",
       "      <td>14</td>\n",
       "      <td>10</td>\n",
       "      <td>[]</td>\n",
       "      <td>page</td>\n",
       "    </tr>\n",
       "    <tr>\n",
       "      <th>14</th>\n",
       "      <td>mdp.39015059898422</td>\n",
       "      <td>00000015</td>\n",
       "      <td>15</td>\n",
       "      <td>A SYSTEM OF PHONIC WRITING.\\n11\\nmust be retai...</td>\n",
       "      <td>15</td>\n",
       "      <td>11</td>\n",
       "      <td>[]</td>\n",
       "      <td>page</td>\n",
       "    </tr>\n",
       "    <tr>\n",
       "      <th>15</th>\n",
       "      <td>mdp.39015059898422</td>\n",
       "      <td>00000016</td>\n",
       "      <td>16</td>\n",
       "      <td>12\\nA SYSTEM OF PHONIC WRITING.\\nit, but rathe...</td>\n",
       "      <td>16</td>\n",
       "      <td>12</td>\n",
       "      <td>[]</td>\n",
       "      <td>page</td>\n",
       "    </tr>\n",
       "    <tr>\n",
       "      <th>16</th>\n",
       "      <td>mdp.39015059898422</td>\n",
       "      <td>00000017</td>\n",
       "      <td>17</td>\n",
       "      <td>A SYSTEM OF PHONIC WRITING. 13\\nwhereas, the f...</td>\n",
       "      <td>17</td>\n",
       "      <td>13</td>\n",
       "      <td>[]</td>\n",
       "      <td>page</td>\n",
       "    </tr>\n",
       "    <tr>\n",
       "      <th>17</th>\n",
       "      <td>mdp.39015059898422</td>\n",
       "      <td>00000018</td>\n",
       "      <td>18</td>\n",
       "      <td>14\\nA SYSTEM OF PHONIC \\VRIT1NG.\\nand mechanic...</td>\n",
       "      <td>18</td>\n",
       "      <td>14</td>\n",
       "      <td>[]</td>\n",
       "      <td>page</td>\n",
       "    </tr>\n",
       "    <tr>\n",
       "      <th>18</th>\n",
       "      <td>mdp.39015059898422</td>\n",
       "      <td>00000019</td>\n",
       "      <td>19</td>\n",
       "      <td>A SYSTEM OF PHONIC WRITING.\\n15\\nwill English,...</td>\n",
       "      <td>19</td>\n",
       "      <td>15</td>\n",
       "      <td>[]</td>\n",
       "      <td>page</td>\n",
       "    </tr>\n",
       "    <tr>\n",
       "      <th>19</th>\n",
       "      <td>mdp.39015059898422</td>\n",
       "      <td>00000020</td>\n",
       "      <td>20</td>\n",
       "      <td>16 A SYSTEM OF PHONIC WRITING.\\nnow obscure wo...</td>\n",
       "      <td>20</td>\n",
       "      <td>16</td>\n",
       "      <td>[UNTYPICAL_PAGE]</td>\n",
       "      <td>page</td>\n",
       "    </tr>\n",
       "    <tr>\n",
       "      <th>20</th>\n",
       "      <td>mdp.39015059898422</td>\n",
       "      <td>00000021</td>\n",
       "      <td>21</td>\n",
       "      <td>A SYSTKM OF PHONIC WRITING.\\nTHE PHONOSCRIPT A...</td>\n",
       "      <td>21</td>\n",
       "      <td>17</td>\n",
       "      <td>[IMPLICIT_PAGE_NUMBER]</td>\n",
       "      <td>page</td>\n",
       "    </tr>\n",
       "    <tr>\n",
       "      <th>21</th>\n",
       "      <td>mdp.39015059898422</td>\n",
       "      <td>00000022</td>\n",
       "      <td>22</td>\n",
       "      <td>A SYSTEM OF PHONIC WRITING.\\nTHE PHONOTYPIC AL...</td>\n",
       "      <td>22</td>\n",
       "      <td>18</td>\n",
       "      <td>[IMPLICIT_PAGE_NUMBER]</td>\n",
       "      <td>page</td>\n",
       "    </tr>\n",
       "    <tr>\n",
       "      <th>22</th>\n",
       "      <td>mdp.39015059898422</td>\n",
       "      <td>00000023</td>\n",
       "      <td>23</td>\n",
       "      <td>A SYSTEM OF PHONIC WHITING.\\n19\\nerr rtvjt /(r...</td>\n",
       "      <td>23</td>\n",
       "      <td>19</td>\n",
       "      <td>[]</td>\n",
       "      <td>page</td>\n",
       "    </tr>\n",
       "    <tr>\n",
       "      <th>23</th>\n",
       "      <td>mdp.39015059898422</td>\n",
       "      <td>00000024</td>\n",
       "      <td>24</td>\n",
       "      <td>20.\\nA SYSTEM OF PHONIC WRITING.\\n\\n</td>\n",
       "      <td>24</td>\n",
       "      <td>20</td>\n",
       "      <td>[UNTYPICAL_PAGE]</td>\n",
       "      <td>page</td>\n",
       "    </tr>\n",
       "    <tr>\n",
       "      <th>24</th>\n",
       "      <td>mdp.39015059898422</td>\n",
       "      <td>00000025</td>\n",
       "      <td>25</td>\n",
       "      <td>Eikogo,]:].., Marc 70\\nJ.W.SmiG,esk.,\\nSan Fra...</td>\n",
       "      <td>25</td>\n",
       "      <td>25</td>\n",
       "      <td>[IMPLICIT_PAGE_NUMBER]</td>\n",
       "      <td>page</td>\n",
       "    </tr>\n",
       "    <tr>\n",
       "      <th>25</th>\n",
       "      <td>mdp.39015059898422</td>\n",
       "      <td>00000026</td>\n",
       "      <td>26</td>\n",
       "      <td>A SYSTEM OF PHONIC WRITING.\\nBeh3nd 9e skwcPz ...</td>\n",
       "      <td>26</td>\n",
       "      <td>26</td>\n",
       "      <td>[IMPLICIT_PAGE_NUMBER]</td>\n",
       "      <td>page</td>\n",
       "    </tr>\n",
       "    <tr>\n",
       "      <th>26</th>\n",
       "      <td>mdp.39015059898422</td>\n",
       "      <td>00000027</td>\n",
       "      <td>27</td>\n",
       "      <td></td>\n",
       "      <td>27</td>\n",
       "      <td>27</td>\n",
       "      <td>[IMPLICIT_PAGE_NUMBER]</td>\n",
       "      <td>page</td>\n",
       "    </tr>\n",
       "    <tr>\n",
       "      <th>27</th>\n",
       "      <td>mdp.39015059898422</td>\n",
       "      <td>00000028</td>\n",
       "      <td>28</td>\n",
       "      <td></td>\n",
       "      <td>28</td>\n",
       "      <td>28</td>\n",
       "      <td>[BLANK, IMPLICIT_PAGE_NUMBER]</td>\n",
       "      <td>page</td>\n",
       "    </tr>\n",
       "    <tr>\n",
       "      <th>28</th>\n",
       "      <td>mdp.39015059898422</td>\n",
       "      <td>00000029</td>\n",
       "      <td>29</td>\n",
       "      <td></td>\n",
       "      <td>29</td>\n",
       "      <td>29</td>\n",
       "      <td>[BLANK, IMPLICIT_PAGE_NUMBER]</td>\n",
       "      <td>page</td>\n",
       "    </tr>\n",
       "    <tr>\n",
       "      <th>29</th>\n",
       "      <td>mdp.39015059898422</td>\n",
       "      <td>00000030</td>\n",
       "      <td>30</td>\n",
       "      <td></td>\n",
       "      <td>30</td>\n",
       "      <td>30</td>\n",
       "      <td>[IMPLICIT_PAGE_NUMBER]</td>\n",
       "      <td>page</td>\n",
       "    </tr>\n",
       "    <tr>\n",
       "      <th>30</th>\n",
       "      <td>mdp.39015059898422</td>\n",
       "      <td>00000031</td>\n",
       "      <td>31</td>\n",
       "      <td>UNIVERSITY OF MICHIGAN\\n\\n</td>\n",
       "      <td>31</td>\n",
       "      <td>31</td>\n",
       "      <td>[CHECKOUT_PAGE, IMPLICIT_PAGE_NUMBER]</td>\n",
       "      <td>page</td>\n",
       "    </tr>\n",
       "    <tr>\n",
       "      <th>31</th>\n",
       "      <td>mdp.39015059898422</td>\n",
       "      <td>00000032</td>\n",
       "      <td>32</td>\n",
       "      <td>\\n</td>\n",
       "      <td>32</td>\n",
       "      <td>32</td>\n",
       "      <td>[BACK_COVER, IMAGE_ON_PAGE, IMPLICIT_PAGE_NUMBER]</td>\n",
       "      <td>page</td>\n",
       "    </tr>\n",
       "  </tbody>\n",
       "</table>\n",
       "</div>"
      ],
      "text/plain": [
       "             source_id   page_id  page_i  \\\n",
       "0   mdp.39015059898422  00000001       1   \n",
       "1   mdp.39015059898422  00000002       2   \n",
       "2   mdp.39015059898422  00000003       3   \n",
       "3   mdp.39015059898422  00000004       4   \n",
       "4   mdp.39015059898422  00000005       5   \n",
       "5   mdp.39015059898422  00000006       6   \n",
       "6   mdp.39015059898422  00000007       7   \n",
       "7   mdp.39015059898422  00000008       8   \n",
       "8   mdp.39015059898422  00000009       9   \n",
       "9   mdp.39015059898422  00000010      10   \n",
       "10  mdp.39015059898422  00000011      11   \n",
       "11  mdp.39015059898422  00000012      12   \n",
       "12  mdp.39015059898422  00000013      13   \n",
       "13  mdp.39015059898422  00000014      14   \n",
       "14  mdp.39015059898422  00000015      15   \n",
       "15  mdp.39015059898422  00000016      16   \n",
       "16  mdp.39015059898422  00000017      17   \n",
       "17  mdp.39015059898422  00000018      18   \n",
       "18  mdp.39015059898422  00000019      19   \n",
       "19  mdp.39015059898422  00000020      20   \n",
       "20  mdp.39015059898422  00000021      21   \n",
       "21  mdp.39015059898422  00000022      22   \n",
       "22  mdp.39015059898422  00000023      23   \n",
       "23  mdp.39015059898422  00000024      24   \n",
       "24  mdp.39015059898422  00000025      25   \n",
       "25  mdp.39015059898422  00000026      26   \n",
       "26  mdp.39015059898422  00000027      27   \n",
       "27  mdp.39015059898422  00000028      28   \n",
       "28  mdp.39015059898422  00000029      29   \n",
       "29  mdp.39015059898422  00000030      30   \n",
       "30  mdp.39015059898422  00000031      31   \n",
       "31  mdp.39015059898422  00000032      32   \n",
       "\n",
       "                                              content  order label  \\\n",
       "0   \\nMftT\\n3 9015 00394 266 4\\nUniversity of Mich...      1     1   \n",
       "1                                                  \\n      2     2   \n",
       "2                                                          3     3   \n",
       "3                                                          4     4   \n",
       "4   A\\nSYSTEM.\\nOF\\nPHONIC WRITING.\\nBY\\nCHARLES M...      5     1   \n",
       "5   N f 7'\\n<\\nEntered, according to Act of Congre...      6     2   \n",
       "6   PREFACE.\\nPhonic Writing consists of three kin...      7     3   \n",
       "7                                                          8     4   \n",
       "8   A SYSTEM OF PHONIC WRITING.\\nPHONOSCRIPT AND P...      9     5   \n",
       "9   G\\nA SYSTEM OF PHONIC WRITING.\\nown. That is t...     10     6   \n",
       "10  A SYSTEM OF PHONIC WRITING. 7\\nafter arriving ...     11     7   \n",
       "11  8\\nA SYSTEM OF PHONIC WRITING.\\nhowever, of ob...     12     8   \n",
       "12  A SYSTEM OF PHONIC WRITING.\\n9\\nbeen added in ...     13     9   \n",
       "13  10\\nA SYSTEM OF PHONIC WRITING.\\nGreek ones, t...     14    10   \n",
       "14  A SYSTEM OF PHONIC WRITING.\\n11\\nmust be retai...     15    11   \n",
       "15  12\\nA SYSTEM OF PHONIC WRITING.\\nit, but rathe...     16    12   \n",
       "16  A SYSTEM OF PHONIC WRITING. 13\\nwhereas, the f...     17    13   \n",
       "17  14\\nA SYSTEM OF PHONIC \\VRIT1NG.\\nand mechanic...     18    14   \n",
       "18  A SYSTEM OF PHONIC WRITING.\\n15\\nwill English,...     19    15   \n",
       "19  16 A SYSTEM OF PHONIC WRITING.\\nnow obscure wo...     20    16   \n",
       "20  A SYSTKM OF PHONIC WRITING.\\nTHE PHONOSCRIPT A...     21    17   \n",
       "21  A SYSTEM OF PHONIC WRITING.\\nTHE PHONOTYPIC AL...     22    18   \n",
       "22  A SYSTEM OF PHONIC WHITING.\\n19\\nerr rtvjt /(r...     23    19   \n",
       "23               20.\\nA SYSTEM OF PHONIC WRITING.\\n\\n     24    20   \n",
       "24  Eikogo,]:].., Marc 70\\nJ.W.SmiG,esk.,\\nSan Fra...     25    25   \n",
       "25  A SYSTEM OF PHONIC WRITING.\\nBeh3nd 9e skwcPz ...     26    26   \n",
       "26                                                        27    27   \n",
       "27                                                        28    28   \n",
       "28                                                        29    29   \n",
       "29                                                        30    30   \n",
       "30                         UNIVERSITY OF MICHIGAN\\n\\n     31    31   \n",
       "31                                                 \\n     32    32   \n",
       "\n",
       "                                                 tags item_type  \n",
       "0   [FRONT_COVER, IMAGE_ON_PAGE, IMPLICIT_PAGE_NUM...      page  \n",
       "1               [IMAGE_ON_PAGE, IMPLICIT_PAGE_NUMBER]      page  \n",
       "2                              [IMPLICIT_PAGE_NUMBER]      page  \n",
       "3                       [BLANK, IMPLICIT_PAGE_NUMBER]      page  \n",
       "4   [TITLE, FIRST_CONTENT_CHAPTER_START, UNTYPICAL...      page  \n",
       "5              [UNTYPICAL_PAGE, IMPLICIT_PAGE_NUMBER]      page  \n",
       "6   [CHAPTER_START, UNTYPICAL_PAGE, IMPLICIT_PAGE_...      page  \n",
       "7                              [IMPLICIT_PAGE_NUMBER]      page  \n",
       "8               [CHAPTER_START, IMPLICIT_PAGE_NUMBER]      page  \n",
       "9                                                  []      page  \n",
       "10                                                 []      page  \n",
       "11                                                 []      page  \n",
       "12                                                 []      page  \n",
       "13                                                 []      page  \n",
       "14                                                 []      page  \n",
       "15                                                 []      page  \n",
       "16                                                 []      page  \n",
       "17                                                 []      page  \n",
       "18                                                 []      page  \n",
       "19                                   [UNTYPICAL_PAGE]      page  \n",
       "20                             [IMPLICIT_PAGE_NUMBER]      page  \n",
       "21                             [IMPLICIT_PAGE_NUMBER]      page  \n",
       "22                                                 []      page  \n",
       "23                                   [UNTYPICAL_PAGE]      page  \n",
       "24                             [IMPLICIT_PAGE_NUMBER]      page  \n",
       "25                             [IMPLICIT_PAGE_NUMBER]      page  \n",
       "26                             [IMPLICIT_PAGE_NUMBER]      page  \n",
       "27                      [BLANK, IMPLICIT_PAGE_NUMBER]      page  \n",
       "28                      [BLANK, IMPLICIT_PAGE_NUMBER]      page  \n",
       "29                             [IMPLICIT_PAGE_NUMBER]      page  \n",
       "30              [CHECKOUT_PAGE, IMPLICIT_PAGE_NUMBER]      page  \n",
       "31  [BACK_COVER, IMAGE_ON_PAGE, IMPLICIT_PAGE_NUMBER]      page  "
      ]
     },
     "execution_count": 4,
     "metadata": {},
     "output_type": "execute_result"
    }
   ],
   "source": [
    "work = random.choice(digiworks)\n",
    "hathiobj = work.hathi\n",
    "df_pages = pd.DataFrame(hathiobj.iter_pages())\n",
    "df_pages"
   ]
  },
  {
   "cell_type": "markdown",
   "id": "ac2fb0df-ba06-49d4-a5b1-43bebd933772",
   "metadata": {},
   "source": [
    "### From pages to strings"
   ]
  },
  {
   "cell_type": "code",
   "execution_count": 5,
   "id": "2b3b73ac-1446-4cff-acc5-98b9c9a60c36",
   "metadata": {},
   "outputs": [],
   "source": [
    "def get_txt_hathi(self,page_sep='\\n',line_sep='\\r'):\n",
    "    return page_sep.join(\n",
    "        standardize_newlines(d.get('content',''),correct=line_sep)\n",
    "        for d in self.iter_pages()\n",
    "    )\n",
    "\n",
    "HathiObject.get_txt = get_txt_hathi"
   ]
  },
  {
   "cell_type": "code",
   "execution_count": 6,
   "id": "ee3dbb28-0722-4187-828a-23dedaf46cc0",
   "metadata": {},
   "outputs": [],
   "source": [
    "def get_txt_digiwork(self, *args, **kwargs):\n",
    "    if self.hathi: return self.hathi.get_txt(*args, **kwargs)\n",
    "    raise NotImplementedError\n",
    "\n",
    "DigitizedWork.get_txt = get_txt_digiwork"
   ]
  },
  {
   "cell_type": "code",
   "execution_count": 7,
   "id": "409146f1-138b-4545-9bcc-549f203b0fa2",
   "metadata": {},
   "outputs": [
    {
     "data": {
      "text/plain": [
       "'\\rUC-NRLF\\r$B 257 874\\rHANDBOON\\rYA 00396\\r\\nJACOB VOORSANGER MEMORIAL\\r\\rSITATIS,\\rBASARAKAT\\rVIVERSI\\rLIRIKRA'"
      ]
     },
     "execution_count": 7,
     "metadata": {},
     "output_type": "execute_result"
    }
   ],
   "source": [
    "work = random.choice(digiworks)\n",
    "work.get_txt()[:100]"
   ]
  },
  {
   "cell_type": "code",
   "execution_count": 8,
   "id": "817aa849-1204-4c69-a84d-60d3b3256230",
   "metadata": {},
   "outputs": [
    {
     "data": {
      "text/plain": [
       "'\\rUC-NRLF\\r$B 257 874\\rHANDBOON\\rYA 00396\\r\\nJACOB VOORSANGER MEMORIAL\\r\\rSITATIS,\\rBASARAKAT\\rVIVERSI\\rLIRIKRA'"
      ]
     },
     "execution_count": 8,
     "metadata": {},
     "output_type": "execute_result"
    }
   ],
   "source": [
    "work.hathi.get_txt()[:100]"
   ]
  },
  {
   "cell_type": "markdown",
   "id": "d9da3ca3-e83e-47c4-a426-580cf5282dd4",
   "metadata": {},
   "source": [
    "## Tokenizing"
   ]
  },
  {
   "cell_type": "code",
   "execution_count": 9,
   "id": "dbdb055b-09ed-47ee-bee4-f4eb4bc4f568",
   "metadata": {},
   "outputs": [
    {
     "data": {
      "text/plain": [
       "['this', 'iswefwe', 'qa', 'test']"
      ]
     },
     "execution_count": 9,
     "metadata": {},
     "output_type": "execute_result"
    }
   ],
   "source": [
    "tokenize(\"This—iswefwe®qa test\")"
   ]
  },
  {
   "cell_type": "code",
   "execution_count": 10,
   "id": "a485ec74-6c9a-48b8-86bf-a75675f99cf4",
   "metadata": {},
   "outputs": [],
   "source": [
    "def get_tokens(self):\n",
    "    return tokenize(self.get_txt())\n",
    "\n",
    "DigitizedWork.get_tokens = get_tokens"
   ]
  },
  {
   "cell_type": "code",
   "execution_count": 11,
   "id": "12e52be6-5f64-4ac2-a0b3-15be9ed1ffbe",
   "metadata": {},
   "outputs": [
    {
     "data": {
      "text/plain": [
       "['uc', 'nrlf', 'b', 'handboon', 'ya']"
      ]
     },
     "execution_count": 11,
     "metadata": {},
     "output_type": "execute_result"
    }
   ],
   "source": [
    "work.get_tokens()[:5]"
   ]
  },
  {
   "cell_type": "markdown",
   "id": "52c3bb80-f655-406d-a2bb-201077e92092",
   "metadata": {},
   "source": [
    "## Counting"
   ]
  },
  {
   "cell_type": "code",
   "execution_count": 12,
   "id": "f3e40756-5480-4074-99e5-364f80c25924",
   "metadata": {},
   "outputs": [],
   "source": [
    "def calc_counts(self):\n",
    "    # return Counter(self.get_tokens())\n",
    "    # return dict(Counter(self.get_tokens()))\n",
    "    return dict(Counter(self.get_tokens()).most_common())\n",
    "\n",
    "DigitizedWork.calc_counts = calc_counts"
   ]
  },
  {
   "cell_type": "code",
   "execution_count": 13,
   "id": "3e61ac91-1e85-44af-aa21-2782443e3702",
   "metadata": {},
   "outputs": [
    {
     "data": {
      "text/plain": [
       "0"
      ]
     },
     "execution_count": 13,
     "metadata": {},
     "output_type": "execute_result"
    }
   ],
   "source": [
    "work.calc_counts().get('ballad',0)"
   ]
  },
  {
   "cell_type": "markdown",
   "id": "2d80dcc7-d5a0-4822-be3e-612834076efd",
   "metadata": {},
   "source": [
    "### Involving the db"
   ]
  },
  {
   "cell_type": "code",
   "execution_count": 14,
   "id": "31e9bf16-7ff4-4311-8b81-118cc43b55d9",
   "metadata": {},
   "outputs": [],
   "source": [
    "def get_or_create_counts(self):\n",
    "    try:\n",
    "        wwc = WorkWordCounts.objects.get(work=self)\n",
    "        countd = wwc.data\n",
    "    except WorkWordCounts.DoesNotExist:    \n",
    "        countd = self.calc_counts()\n",
    "        try:\n",
    "            wwc, created = WorkWordCounts.objects.get_or_create(work=self, data=countd)\n",
    "        except Exception as e:\n",
    "            log.debug(e)\n",
    "    return countd\n",
    "\n",
    "def get_counts(self):\n",
    "    return dict(Counter(self.get_or_create_counts()).most_common())\n",
    "\n",
    "DigitizedWork.get_or_create_counts = get_or_create_counts\n",
    "DigitizedWork.get_counts = get_counts"
   ]
  },
  {
   "cell_type": "code",
   "execution_count": 15,
   "id": "91ca3478",
   "metadata": {},
   "outputs": [
    {
     "data": {
      "text/plain": [
       "<DigitizedWork: inu.30000035051881>"
      ]
     },
     "execution_count": 15,
     "metadata": {},
     "output_type": "execute_result"
    }
   ],
   "source": [
    "work=random.choice(digiworks)\n",
    "work"
   ]
  },
  {
   "cell_type": "code",
   "execution_count": 16,
   "id": "77928787",
   "metadata": {},
   "outputs": [],
   "source": [
    "def cache_all():\n",
    "    pmap_run(\n",
    "        get_or_create_counts,\n",
    "        digiworks,\n",
    "        num_proc=8,\n",
    "    )\n",
    "\n",
    "# cache_all()"
   ]
  },
  {
   "cell_type": "markdown",
   "id": "de653c7d",
   "metadata": {},
   "source": [
    "### Involving the DB in another way: WorkWordCount"
   ]
  },
  {
   "cell_type": "code",
   "execution_count": 17,
   "id": "312e24ca",
   "metadata": {},
   "outputs": [],
   "source": [
    "def get_or_create_counts2(self):\n",
    "    try:\n",
    "        wwc = WorkWordCount.objects.get(work=self)\n",
    "        countd = wwc.data\n",
    "    except WorkWordCount.DoesNotExist:    \n",
    "        countd = self.calc_counts()\n",
    "        try:\n",
    "            wwc, created = WorkWordCount.objects.get_or_create(work=self, data=countd)\n",
    "        except Exception as e:\n",
    "            log.debug(e)\n",
    "    return countd\n",
    "\n",
    "def get_counts2(self):\n",
    "    return dict(Counter(self.get_or_create_counts()).most_common())\n",
    "\n",
    "DigitizedWork.get_or_create_counts2 = get_or_create_counts2\n",
    "DigitizedWork.get_counts2 = get_counts2"
   ]
  },
  {
   "cell_type": "code",
   "execution_count": 28,
   "id": "438cef1a",
   "metadata": {},
   "outputs": [],
   "source": [
    "# countd = work.calc_counts()\n",
    "# countd"
   ]
  },
  {
   "cell_type": "code",
   "execution_count": 18,
   "id": "62fa17f3",
   "metadata": {},
   "outputs": [],
   "source": [
    "def store_counts(self, **opts):\n",
    "    countd = self.calc_counts()\n",
    "    workwordcounts = [(self,word,countd[word]) for word in countd]\n",
    "    pmap_run(do_store_counts, workwordcounts, **opts)\n",
    "\n",
    "\n",
    "def do_store_counts(workwordcount):\n",
    "    work,word,count=workwordcount\n",
    "    try:\n",
    "        wordobj, word_created = Word.objects.get_or_create(token=word)\n",
    "        obj, created = WorkWordCount.objects.get_or_create(\n",
    "            work=work,\n",
    "            word=wordobj,\n",
    "            count = count\n",
    "        )\n",
    "    except Exception as e:\n",
    "        logging.debug(e)\n",
    "\n",
    "\n",
    "DigitizedWork.store_counts = store_counts"
   ]
  },
  {
   "cell_type": "code",
   "execution_count": 20,
   "id": "c60dbc13",
   "metadata": {},
   "outputs": [
    {
     "name": "stderr",
     "output_type": "stream",
     "text": [
      "Mapping do_store_counts() [x8]: 100%|██████████| 13429/13429 [00:19<00:00, 703.19it/s]\n"
     ]
    }
   ],
   "source": [
    "work.store_counts(lim=None, num_proc=8)"
   ]
  },
  {
   "cell_type": "code",
   "execution_count": 21,
   "id": "85755c55",
   "metadata": {},
   "outputs": [],
   "source": [
    "# qset=WorkWordCount.objects.filter(work=work)\n"
   ]
  }
 ],
 "metadata": {
  "kernelspec": {
   "display_name": "ppa-nlp",
   "language": "python",
   "name": "ppa-nlp"
  },
  "language_info": {
   "codemirror_mode": {
    "name": "ipython",
    "version": 3
   },
   "file_extension": ".py",
   "mimetype": "text/x-python",
   "name": "python",
   "nbconvert_exporter": "python",
   "pygments_lexer": "ipython3",
   "version": "3.8.14"
  }
 },
 "nbformat": 4,
 "nbformat_minor": 5
}
