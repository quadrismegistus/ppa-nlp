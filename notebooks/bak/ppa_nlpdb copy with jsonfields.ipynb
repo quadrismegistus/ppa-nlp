{
 "cells": [
  {
   "cell_type": "markdown",
   "id": "a06f6490-ae38-4deb-88dc-0010e821c284",
   "metadata": {},
   "source": [
    "# New nlpfuncs for hathi/digitizedwork"
   ]
  },
  {
   "cell_type": "code",
   "execution_count": 2,
   "id": "ba306269-3e0c-4127-8437-0de9af090882",
   "metadata": {},
   "outputs": [],
   "source": [
    "%run ppa_init.ipynb\n",
    "%run ppa_nlpfuncs.ipynb"
   ]
  },
  {
   "cell_type": "markdown",
   "id": "2d80dcc7-d5a0-4822-be3e-612834076efd",
   "metadata": {},
   "source": [
    "## Involving the db"
   ]
  },
  {
   "cell_type": "markdown",
   "id": "574a0d26",
   "metadata": {},
   "source": [
    "### JSON Fields"
   ]
  },
  {
   "cell_type": "code",
   "execution_count": 14,
   "id": "31e9bf16-7ff4-4311-8b81-118cc43b55d9",
   "metadata": {},
   "outputs": [],
   "source": [
    "def get_or_create_counts(self):\n",
    "    try:\n",
    "        wwc = WorkWordCounts.objects.get(work=self)\n",
    "        countd = wwc.data\n",
    "    except WorkWordCounts.DoesNotExist:    \n",
    "        countd = self.calc_counts()\n",
    "        try:\n",
    "            wwc, created = WorkWordCounts.objects.get_or_create(work=self, data=countd)\n",
    "        except Exception as e:\n",
    "            log.debug(e)\n",
    "    return countd\n",
    "\n",
    "def get_counts(self):\n",
    "    return dict(Counter(self.get_or_create_counts()).most_common())\n",
    "\n",
    "DigitizedWork.get_or_create_counts = get_or_create_counts\n",
    "DigitizedWork.get_counts = get_counts"
   ]
  },
  {
   "cell_type": "code",
   "execution_count": 15,
   "id": "91ca3478",
   "metadata": {},
   "outputs": [
    {
     "data": {
      "text/plain": [
       "<DigitizedWork: inu.30000035051881>"
      ]
     },
     "execution_count": 15,
     "metadata": {},
     "output_type": "execute_result"
    }
   ],
   "source": [
    "work=random.choice(digiworks)\n",
    "work"
   ]
  },
  {
   "cell_type": "code",
   "execution_count": 16,
   "id": "77928787",
   "metadata": {},
   "outputs": [],
   "source": [
    "def cache_all():\n",
    "    pmap_run(\n",
    "        get_or_create_counts,\n",
    "        digiworks,\n",
    "        num_proc=8,\n",
    "    )\n",
    "\n",
    "# cache_all()"
   ]
  },
  {
   "cell_type": "markdown",
   "id": "de653c7d",
   "metadata": {},
   "source": [
    "### SQL-style: WorkWordCount"
   ]
  },
  {
   "cell_type": "code",
   "execution_count": 4,
   "id": "62fa17f3",
   "metadata": {},
   "outputs": [],
   "source": [
    "def store_counts(self, **opts):\n",
    "    countd = self.calc_counts()\n",
    "    workwordcounts = [(self,word,countd[word]) for word in countd]\n",
    "    pmap_run(do_store_counts, workwordcounts, **opts)\n",
    "\n",
    "def do_store_counts(workwordcount):\n",
    "    work,word,count=workwordcount\n",
    "    try:\n",
    "        wordobj, word_created = Word.objects.get_or_create(token=word)\n",
    "        obj, created = WorkWordCount.objects.get_or_create(\n",
    "            work=work,\n",
    "            word=wordobj,\n",
    "            count = count\n",
    "        )\n",
    "    except Exception as e:\n",
    "        logging.debug(e)\n",
    "\n",
    "\n",
    "DigitizedWork.store_counts = store_counts"
   ]
  },
  {
   "cell_type": "code",
   "execution_count": 5,
   "id": "1c025d85",
   "metadata": {},
   "outputs": [
    {
     "data": {
      "text/plain": [
       "('Monboddo, James Burnett, Lord, 1714-1799',\n",
       " 'Of the origin and progress of language.',\n",
       " 1774)"
      ]
     },
     "execution_count": 5,
     "metadata": {},
     "output_type": "execute_result"
    }
   ],
   "source": [
    "work=random.choice(digiworks)\n",
    "work.author, work.title, work.pub_date"
   ]
  },
  {
   "cell_type": "code",
   "execution_count": 6,
   "id": "c60dbc13",
   "metadata": {},
   "outputs": [
    {
     "name": "stderr",
     "output_type": "stream",
     "text": [
      "Mapping do_store_counts() [x8]: 100%|██████████| 9362/9362 [00:16<00:00, 558.83it/s]\n"
     ]
    }
   ],
   "source": [
    "work.store_counts(lim=None, num_proc=8)"
   ]
  },
  {
   "cell_type": "code",
   "execution_count": 21,
   "id": "85755c55",
   "metadata": {},
   "outputs": [],
   "source": [
    "# qset=WorkWordCount.objects.filter(work=work)\n"
   ]
  },
  {
   "cell_type": "code",
   "execution_count": 22,
   "id": "b253c016",
   "metadata": {},
   "outputs": [],
   "source": [
    "# WorkWordCount.objects.filter(word=)"
   ]
  },
  {
   "cell_type": "code",
   "execution_count": 23,
   "id": "67afba8e",
   "metadata": {},
   "outputs": [
    {
     "data": {
      "text/plain": [
       "(<Word: Word object (1)>, 'ballad')"
      ]
     },
     "execution_count": 23,
     "metadata": {},
     "output_type": "execute_result"
    }
   ],
   "source": [
    "wordobj=Word.objects.get(token='ballad')\n",
    "wordobj, wordobj.token"
   ]
  },
  {
   "cell_type": "code",
   "execution_count": 28,
   "id": "b3d3edb9",
   "metadata": {},
   "outputs": [
    {
     "data": {
      "text/plain": [
       "{<DigitizedWork: mdp.39015003937433>: 18,\n",
       " <DigitizedWork: nyp.33433074393947>: 1,\n",
       " <DigitizedWork: chi.76009251>: 2,\n",
       " <DigitizedWork: miun.acj8800.0001.001>: 2}"
      ]
     },
     "execution_count": 28,
     "metadata": {},
     "output_type": "execute_result"
    }
   ],
   "source": [
    "qset=WorkWordCount.objects.filter(word=wordobj)\n",
    "{obj.work:obj.count for obj in qset}"
   ]
  },
  {
   "cell_type": "code",
   "execution_count": null,
   "id": "7e344711",
   "metadata": {},
   "outputs": [],
   "source": []
  },
  {
   "cell_type": "code",
   "execution_count": null,
   "id": "a6944ea1",
   "metadata": {},
   "outputs": [],
   "source": []
  }
 ],
 "metadata": {
  "kernelspec": {
   "display_name": "ppa-nlp",
   "language": "python",
   "name": "ppa-nlp"
  },
  "language_info": {
   "codemirror_mode": {
    "name": "ipython",
    "version": 3
   },
   "file_extension": ".py",
   "mimetype": "text/x-python",
   "name": "python",
   "nbconvert_exporter": "python",
   "pygments_lexer": "ipython3",
   "version": "3.8.14 (default, Sep 27 2022, 10:48:18) \n[Clang 13.1.6 (clang-1316.0.21.2.5)]"
  }
 },
 "nbformat": 4,
 "nbformat_minor": 5
}
