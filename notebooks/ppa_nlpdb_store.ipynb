{
 "cells": [
  {
   "cell_type": "markdown",
   "id": "a06f6490-ae38-4deb-88dc-0010e821c284",
   "metadata": {},
   "source": [
    "## DB funcs for nlp"
   ]
  },
  {
   "cell_type": "code",
   "execution_count": 8,
   "id": "ba306269-3e0c-4127-8437-0de9af090882",
   "metadata": {},
   "outputs": [
    {
     "data": {
      "text/plain": [
       "('Vowel Alliteration in Modern Poetry.', 1915)"
      ]
     },
     "execution_count": 8,
     "metadata": {},
     "output_type": "execute_result"
    }
   ],
   "source": [
    "%run ppa_init.ipynb\n",
    "%run ppa_nlpfuncs.ipynb\n",
    "work=random.choice(digiworks)\n",
    "work.title, work.pub_date"
   ]
  },
  {
   "cell_type": "markdown",
   "id": "de653c7d",
   "metadata": {},
   "source": [
    "### SQL-style: TotalCount and WordCount"
   ]
  },
  {
   "cell_type": "code",
   "execution_count": 9,
   "id": "be9c988c",
   "metadata": {},
   "outputs": [],
   "source": [
    "def store_counts(self, countd=None, **opts):\n",
    "    if not countd: countd = self.calc_counts()\n",
    "    total = sum(countd.values())\n",
    "    \n",
    "    with timer('init workcount'):\n",
    "        totalcount, totalcount_created = TotalCount.objects.get_or_create(\n",
    "            work=self, count=total\n",
    "        )\n",
    "\n",
    "    ## store words\n",
    "    with timer('gathering objects to store'):\n",
    "        objs = [\n",
    "            WordCount(\n",
    "                work=self,\n",
    "                word=word,\n",
    "                count=countd[word]\n",
    "            )\n",
    "            for word in countd\n",
    "            if word and countd[word]\n",
    "        ]\n",
    "\n",
    "    with timer('bulk storing'):\n",
    "        res = WordCount.objects.bulk_create(objs, ignore_conflicts=True, batch_size=500)\n",
    "    \n",
    "    return res\n",
    "\n",
    "DigitizedWork.store_counts = store_counts"
   ]
  },
  {
   "cell_type": "code",
   "execution_count": 10,
   "id": "c60dbc13",
   "metadata": {},
   "outputs": [
    {
     "name": "stdout",
     "output_type": "stream",
     "text": [
      "init workcount ... 0.0s\n",
      "gathering objects to store ... 0.3s\n",
      "bulk storing ... 0.8s\n"
     ]
    },
    {
     "data": {
      "text/plain": [
       "(27326,\n",
       " WordCount(Work(1264), \"the\", 13333),\n",
       " {'_state': <django.db.models.base.ModelState at 0x1457becd0>,\n",
       "  'id': None,\n",
       "  'work_id': 1264,\n",
       "  'word': 'the',\n",
       "  'count': 13333})"
      ]
     },
     "execution_count": 10,
     "metadata": {},
     "output_type": "execute_result"
    }
   ],
   "source": [
    "wordcounts = objs = work.store_counts()\n",
    "len(objs), objs[0], objs[0].__dict__"
   ]
  },
  {
   "cell_type": "code",
   "execution_count": 12,
   "id": "20a1c3a5",
   "metadata": {},
   "outputs": [
    {
     "data": {
      "text/plain": [
       "<QuerySet [WordCount(Work(4191), \"ballad\", 1), WordCount(Work(2057), \"ballad\", 1), WordCount(Work(2818), \"ballad\", 1), WordCount(Work(6327), \"ballad\", 7), WordCount(Work(4510), \"ballad\", 1), WordCount(Work(490), \"ballad\", 2), WordCount(Work(493), \"ballad\", 1), WordCount(Work(3176), \"ballad\", 9), WordCount(Work(500), \"ballad\", 1), WordCount(Work(4679), \"ballad\", 1), WordCount(Work(2684), \"ballad\", 1), WordCount(Work(2812), \"ballad\", 1), WordCount(Work(2990), \"ballad\", 1), WordCount(Work(2813), \"ballad\", 1), WordCount(Work(2348), \"ballad\", 1), WordCount(Work(2817), \"ballad\", 1), WordCount(Work(241), \"ballad\", 1), WordCount(Work(499), \"ballad\", 1), WordCount(Work(2815), \"ballad\", 1), WordCount(Work(352), \"ballad\", 1), '...(remaining elements truncated)...']>"
      ]
     },
     "execution_count": 12,
     "metadata": {},
     "output_type": "execute_result"
    }
   ],
   "source": [
    "qset=WordCount.objects.filter(word='ballad')\n",
    "qset"
   ]
  },
  {
   "cell_type": "markdown",
   "id": "a6944ea1",
   "metadata": {},
   "source": [
    "### Storing all counts"
   ]
  },
  {
   "cell_type": "code",
   "execution_count": 7,
   "id": "95a38413",
   "metadata": {},
   "outputs": [
    {
     "name": "stderr",
     "output_type": "stream",
     "text": [
      "Mapping store_counts() [x8]: 100%|██████████| 5124/5124 [23:45<00:00,  3.59it/s]  \n"
     ]
    }
   ],
   "source": [
    "if 0: \n",
    "    timer.PRINT = False\n",
    "\n",
    "    pmap_run(\n",
    "        store_counts,\n",
    "        digiworks,\n",
    "        num_proc=8\n",
    "    )"
   ]
  },
  {
   "cell_type": "code",
   "execution_count": null,
   "id": "097e27f8",
   "metadata": {},
   "outputs": [],
   "source": []
  }
 ],
 "metadata": {
  "kernelspec": {
   "display_name": "Python 3.8.14 ('venv': venv)",
   "language": "python",
   "name": "python3"
  },
  "language_info": {
   "codemirror_mode": {
    "name": "ipython",
    "version": 3
   },
   "file_extension": ".py",
   "mimetype": "text/x-python",
   "name": "python",
   "nbconvert_exporter": "python",
   "pygments_lexer": "ipython3",
   "version": "3.8.14"
  },
  "vscode": {
   "interpreter": {
    "hash": "a26afea0148184adcf96d9e854e9a32e5f0c213ceb3100f49c8a7d0e8bc5ae95"
   }
  }
 },
 "nbformat": 4,
 "nbformat_minor": 5
}
